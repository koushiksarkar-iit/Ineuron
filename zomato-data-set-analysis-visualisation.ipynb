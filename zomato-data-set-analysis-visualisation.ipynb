{
 "cells": [
  {
   "cell_type": "code",
   "execution_count": 1,
   "id": "0355b036",
   "metadata": {
    "_cell_guid": "b1076dfc-b9ad-4769-8c92-a6c4dae69d19",
    "_uuid": "8f2839f25d086af736a60e9eeb907d3b93b6e0e5",
    "execution": {
     "iopub.execute_input": "2023-06-01T07:46:30.996823Z",
     "iopub.status.busy": "2023-06-01T07:46:30.995686Z",
     "iopub.status.idle": "2023-06-01T07:46:31.021089Z",
     "shell.execute_reply": "2023-06-01T07:46:31.019635Z"
    },
    "papermill": {
     "duration": 0.052025,
     "end_time": "2023-06-01T07:46:31.024006",
     "exception": false,
     "start_time": "2023-06-01T07:46:30.971981",
     "status": "completed"
    },
    "tags": []
   },
   "outputs": [
    {
     "name": "stdout",
     "output_type": "stream",
     "text": [
      "/kaggle/input/zomato-bangalore-restaurants/zomato.csv\n"
     ]
    }
   ],
   "source": [
    "# This Python 3 environment comes with many helpful analytics libraries installed\n",
    "# It is defined by the kaggle/python Docker image: https://github.com/kaggle/docker-python\n",
    "# For example, here's several helpful packages to load\n",
    "\n",
    "import numpy as np # linear algebra\n",
    "import pandas as pd # data processing, CSV file I/O (e.g. pd.read_csv)\n",
    "\n",
    "# Input data files are available in the read-only \"../input/\" directory\n",
    "# For example, running this (by clicking run or pressing Shift+Enter) will list all files under the input directory\n",
    "\n",
    "import os\n",
    "for dirname, _, filenames in os.walk('/kaggle/input'):\n",
    "    for filename in filenames:\n",
    "        print(os.path.join(dirname, filename))\n",
    "\n",
    "# You can write up to 20GB to the current directory (/kaggle/working/) that gets preserved as output when you create a version using \"Save & Run All\" \n",
    "# You can also write temporary files to /kaggle/temp/, but they won't be saved outside of the current session"
   ]
  },
  {
   "cell_type": "code",
   "execution_count": 2,
   "id": "9d9569ee",
   "metadata": {
    "execution": {
     "iopub.execute_input": "2023-06-01T07:46:31.063635Z",
     "iopub.status.busy": "2023-06-01T07:46:31.063173Z",
     "iopub.status.idle": "2023-06-01T07:46:32.687720Z",
     "shell.execute_reply": "2023-06-01T07:46:32.686029Z"
    },
    "papermill": {
     "duration": 1.649032,
     "end_time": "2023-06-01T07:46:32.691730",
     "exception": false,
     "start_time": "2023-06-01T07:46:31.042698",
     "status": "completed"
    },
    "tags": []
   },
   "outputs": [
    {
     "name": "stderr",
     "output_type": "stream",
     "text": [
      "/opt/conda/lib/python3.10/site-packages/scipy/__init__.py:146: UserWarning: A NumPy version >=1.16.5 and <1.23.0 is required for this version of SciPy (detected version 1.23.5\n",
      "  warnings.warn(f\"A NumPy version >={np_minversion} and <{np_maxversion}\"\n"
     ]
    }
   ],
   "source": [
    "import matplotlib.pyplot as plt\n",
    "import seaborn as sns\n",
    "import numpy as np\n",
    "import pandas as pd"
   ]
  },
  {
   "cell_type": "code",
   "execution_count": 3,
   "id": "ff3dd5fe",
   "metadata": {
    "execution": {
     "iopub.execute_input": "2023-06-01T07:46:32.731782Z",
     "iopub.status.busy": "2023-06-01T07:46:32.731316Z",
     "iopub.status.idle": "2023-06-01T07:46:46.600428Z",
     "shell.execute_reply": "2023-06-01T07:46:46.598977Z"
    },
    "papermill": {
     "duration": 13.892356,
     "end_time": "2023-06-01T07:46:46.603171",
     "exception": false,
     "start_time": "2023-06-01T07:46:32.710815",
     "status": "completed"
    },
    "tags": []
   },
   "outputs": [
    {
     "data": {
      "text/html": [
       "<div>\n",
       "<style scoped>\n",
       "    .dataframe tbody tr th:only-of-type {\n",
       "        vertical-align: middle;\n",
       "    }\n",
       "\n",
       "    .dataframe tbody tr th {\n",
       "        vertical-align: top;\n",
       "    }\n",
       "\n",
       "    .dataframe thead th {\n",
       "        text-align: right;\n",
       "    }\n",
       "</style>\n",
       "<table border=\"1\" class=\"dataframe\">\n",
       "  <thead>\n",
       "    <tr style=\"text-align: right;\">\n",
       "      <th></th>\n",
       "      <th>url</th>\n",
       "      <th>address</th>\n",
       "      <th>name</th>\n",
       "      <th>online_order</th>\n",
       "      <th>book_table</th>\n",
       "      <th>rate</th>\n",
       "      <th>votes</th>\n",
       "      <th>phone</th>\n",
       "      <th>location</th>\n",
       "      <th>rest_type</th>\n",
       "      <th>dish_liked</th>\n",
       "      <th>cuisines</th>\n",
       "      <th>approx_cost(for two people)</th>\n",
       "      <th>reviews_list</th>\n",
       "      <th>menu_item</th>\n",
       "      <th>listed_in(type)</th>\n",
       "      <th>listed_in(city)</th>\n",
       "    </tr>\n",
       "  </thead>\n",
       "  <tbody>\n",
       "    <tr>\n",
       "      <th>0</th>\n",
       "      <td>https://www.zomato.com/bangalore/jalsa-banasha...</td>\n",
       "      <td>942, 21st Main Road, 2nd Stage, Banashankari, ...</td>\n",
       "      <td>Jalsa</td>\n",
       "      <td>Yes</td>\n",
       "      <td>Yes</td>\n",
       "      <td>4.1/5</td>\n",
       "      <td>775</td>\n",
       "      <td>080 42297555\\r\\n+91 9743772233</td>\n",
       "      <td>Banashankari</td>\n",
       "      <td>Casual Dining</td>\n",
       "      <td>Pasta, Lunch Buffet, Masala Papad, Paneer Laja...</td>\n",
       "      <td>North Indian, Mughlai, Chinese</td>\n",
       "      <td>800</td>\n",
       "      <td>[('Rated 4.0', 'RATED\\n  A beautiful place to ...</td>\n",
       "      <td>[]</td>\n",
       "      <td>Buffet</td>\n",
       "      <td>Banashankari</td>\n",
       "    </tr>\n",
       "    <tr>\n",
       "      <th>1</th>\n",
       "      <td>https://www.zomato.com/bangalore/spice-elephan...</td>\n",
       "      <td>2nd Floor, 80 Feet Road, Near Big Bazaar, 6th ...</td>\n",
       "      <td>Spice Elephant</td>\n",
       "      <td>Yes</td>\n",
       "      <td>No</td>\n",
       "      <td>4.1/5</td>\n",
       "      <td>787</td>\n",
       "      <td>080 41714161</td>\n",
       "      <td>Banashankari</td>\n",
       "      <td>Casual Dining</td>\n",
       "      <td>Momos, Lunch Buffet, Chocolate Nirvana, Thai G...</td>\n",
       "      <td>Chinese, North Indian, Thai</td>\n",
       "      <td>800</td>\n",
       "      <td>[('Rated 4.0', 'RATED\\n  Had been here for din...</td>\n",
       "      <td>[]</td>\n",
       "      <td>Buffet</td>\n",
       "      <td>Banashankari</td>\n",
       "    </tr>\n",
       "    <tr>\n",
       "      <th>2</th>\n",
       "      <td>https://www.zomato.com/SanchurroBangalore?cont...</td>\n",
       "      <td>1112, Next to KIMS Medical College, 17th Cross...</td>\n",
       "      <td>San Churro Cafe</td>\n",
       "      <td>Yes</td>\n",
       "      <td>No</td>\n",
       "      <td>3.8/5</td>\n",
       "      <td>918</td>\n",
       "      <td>+91 9663487993</td>\n",
       "      <td>Banashankari</td>\n",
       "      <td>Cafe, Casual Dining</td>\n",
       "      <td>Churros, Cannelloni, Minestrone Soup, Hot Choc...</td>\n",
       "      <td>Cafe, Mexican, Italian</td>\n",
       "      <td>800</td>\n",
       "      <td>[('Rated 3.0', \"RATED\\n  Ambience is not that ...</td>\n",
       "      <td>[]</td>\n",
       "      <td>Buffet</td>\n",
       "      <td>Banashankari</td>\n",
       "    </tr>\n",
       "    <tr>\n",
       "      <th>3</th>\n",
       "      <td>https://www.zomato.com/bangalore/addhuri-udupi...</td>\n",
       "      <td>1st Floor, Annakuteera, 3rd Stage, Banashankar...</td>\n",
       "      <td>Addhuri Udupi Bhojana</td>\n",
       "      <td>No</td>\n",
       "      <td>No</td>\n",
       "      <td>3.7/5</td>\n",
       "      <td>88</td>\n",
       "      <td>+91 9620009302</td>\n",
       "      <td>Banashankari</td>\n",
       "      <td>Quick Bites</td>\n",
       "      <td>Masala Dosa</td>\n",
       "      <td>South Indian, North Indian</td>\n",
       "      <td>300</td>\n",
       "      <td>[('Rated 4.0', \"RATED\\n  Great food and proper...</td>\n",
       "      <td>[]</td>\n",
       "      <td>Buffet</td>\n",
       "      <td>Banashankari</td>\n",
       "    </tr>\n",
       "    <tr>\n",
       "      <th>4</th>\n",
       "      <td>https://www.zomato.com/bangalore/grand-village...</td>\n",
       "      <td>10, 3rd Floor, Lakshmi Associates, Gandhi Baza...</td>\n",
       "      <td>Grand Village</td>\n",
       "      <td>No</td>\n",
       "      <td>No</td>\n",
       "      <td>3.8/5</td>\n",
       "      <td>166</td>\n",
       "      <td>+91 8026612447\\r\\n+91 9901210005</td>\n",
       "      <td>Basavanagudi</td>\n",
       "      <td>Casual Dining</td>\n",
       "      <td>Panipuri, Gol Gappe</td>\n",
       "      <td>North Indian, Rajasthani</td>\n",
       "      <td>600</td>\n",
       "      <td>[('Rated 4.0', 'RATED\\n  Very good restaurant ...</td>\n",
       "      <td>[]</td>\n",
       "      <td>Buffet</td>\n",
       "      <td>Banashankari</td>\n",
       "    </tr>\n",
       "    <tr>\n",
       "      <th>5</th>\n",
       "      <td>https://www.zomato.com/bangalore/timepass-dinn...</td>\n",
       "      <td>37, 5-1, 4th Floor, Bosco Court, Gandhi Bazaar...</td>\n",
       "      <td>Timepass Dinner</td>\n",
       "      <td>Yes</td>\n",
       "      <td>No</td>\n",
       "      <td>3.8/5</td>\n",
       "      <td>286</td>\n",
       "      <td>+91 9980040002\\r\\n+91 9980063005</td>\n",
       "      <td>Basavanagudi</td>\n",
       "      <td>Casual Dining</td>\n",
       "      <td>Onion Rings, Pasta, Kadhai Paneer, Salads, Sal...</td>\n",
       "      <td>North Indian</td>\n",
       "      <td>600</td>\n",
       "      <td>[('Rated 3.0', 'RATED\\n  Food 3/5\\nAmbience 3/...</td>\n",
       "      <td>[]</td>\n",
       "      <td>Buffet</td>\n",
       "      <td>Banashankari</td>\n",
       "    </tr>\n",
       "    <tr>\n",
       "      <th>6</th>\n",
       "      <td>https://www.zomato.com/bangalore/rosewood-inte...</td>\n",
       "      <td>19/1, New Timberyard Layout, Beside Satellite ...</td>\n",
       "      <td>Rosewood International Hotel - Bar &amp; Restaurant</td>\n",
       "      <td>No</td>\n",
       "      <td>No</td>\n",
       "      <td>3.6/5</td>\n",
       "      <td>8</td>\n",
       "      <td>+91 9731716688\\r\\n080 26740366</td>\n",
       "      <td>Mysore Road</td>\n",
       "      <td>Casual Dining</td>\n",
       "      <td>NaN</td>\n",
       "      <td>North Indian, South Indian, Andhra, Chinese</td>\n",
       "      <td>800</td>\n",
       "      <td>[('Rated 5.0', 'RATED\\n  Awesome food ??Great ...</td>\n",
       "      <td>[]</td>\n",
       "      <td>Buffet</td>\n",
       "      <td>Banashankari</td>\n",
       "    </tr>\n",
       "    <tr>\n",
       "      <th>7</th>\n",
       "      <td>https://www.zomato.com/bangalore/onesta-banash...</td>\n",
       "      <td>2469, 3rd Floor, 24th Cross, Opposite BDA Comp...</td>\n",
       "      <td>Onesta</td>\n",
       "      <td>Yes</td>\n",
       "      <td>Yes</td>\n",
       "      <td>4.6/5</td>\n",
       "      <td>2556</td>\n",
       "      <td>080 48653961\\r\\n080 48655715</td>\n",
       "      <td>Banashankari</td>\n",
       "      <td>Casual Dining, Cafe</td>\n",
       "      <td>Farmhouse Pizza, Chocolate Banana, Virgin Moji...</td>\n",
       "      <td>Pizza, Cafe, Italian</td>\n",
       "      <td>600</td>\n",
       "      <td>[('Rated 5.0', 'RATED\\n  I personally really l...</td>\n",
       "      <td>[]</td>\n",
       "      <td>Cafes</td>\n",
       "      <td>Banashankari</td>\n",
       "    </tr>\n",
       "    <tr>\n",
       "      <th>8</th>\n",
       "      <td>https://www.zomato.com/bangalore/penthouse-caf...</td>\n",
       "      <td>1, 30th Main Road, 3rd Stage, Banashankari, Ba...</td>\n",
       "      <td>Penthouse Cafe</td>\n",
       "      <td>Yes</td>\n",
       "      <td>No</td>\n",
       "      <td>4.0/5</td>\n",
       "      <td>324</td>\n",
       "      <td>+91 8884135549\\r\\n+91 9449449316</td>\n",
       "      <td>Banashankari</td>\n",
       "      <td>Cafe</td>\n",
       "      <td>Pizza, Mocktails, Coffee, Nachos, Salad, Pasta...</td>\n",
       "      <td>Cafe, Italian, Continental</td>\n",
       "      <td>700</td>\n",
       "      <td>[('Rated 3.0', \"RATED\\n  I had been to this pl...</td>\n",
       "      <td>[]</td>\n",
       "      <td>Cafes</td>\n",
       "      <td>Banashankari</td>\n",
       "    </tr>\n",
       "    <tr>\n",
       "      <th>9</th>\n",
       "      <td>https://www.zomato.com/bangalore/smacznego-ban...</td>\n",
       "      <td>2470, 21 Main Road, 25th Cross, Banashankari, ...</td>\n",
       "      <td>Smacznego</td>\n",
       "      <td>Yes</td>\n",
       "      <td>No</td>\n",
       "      <td>4.2/5</td>\n",
       "      <td>504</td>\n",
       "      <td>+91 9945230807\\r\\n+91 9743804471</td>\n",
       "      <td>Banashankari</td>\n",
       "      <td>Cafe</td>\n",
       "      <td>Waffles, Pasta, Coleslaw Sandwich, Choco Waffl...</td>\n",
       "      <td>Cafe, Mexican, Italian, Momos, Beverages</td>\n",
       "      <td>550</td>\n",
       "      <td>[('Rated 4.0', \"RATED\\n  Easy to locate\\nVFM 3...</td>\n",
       "      <td>[]</td>\n",
       "      <td>Cafes</td>\n",
       "      <td>Banashankari</td>\n",
       "    </tr>\n",
       "  </tbody>\n",
       "</table>\n",
       "</div>"
      ],
      "text/plain": [
       "                                                 url  \\\n",
       "0  https://www.zomato.com/bangalore/jalsa-banasha...   \n",
       "1  https://www.zomato.com/bangalore/spice-elephan...   \n",
       "2  https://www.zomato.com/SanchurroBangalore?cont...   \n",
       "3  https://www.zomato.com/bangalore/addhuri-udupi...   \n",
       "4  https://www.zomato.com/bangalore/grand-village...   \n",
       "5  https://www.zomato.com/bangalore/timepass-dinn...   \n",
       "6  https://www.zomato.com/bangalore/rosewood-inte...   \n",
       "7  https://www.zomato.com/bangalore/onesta-banash...   \n",
       "8  https://www.zomato.com/bangalore/penthouse-caf...   \n",
       "9  https://www.zomato.com/bangalore/smacznego-ban...   \n",
       "\n",
       "                                             address  \\\n",
       "0  942, 21st Main Road, 2nd Stage, Banashankari, ...   \n",
       "1  2nd Floor, 80 Feet Road, Near Big Bazaar, 6th ...   \n",
       "2  1112, Next to KIMS Medical College, 17th Cross...   \n",
       "3  1st Floor, Annakuteera, 3rd Stage, Banashankar...   \n",
       "4  10, 3rd Floor, Lakshmi Associates, Gandhi Baza...   \n",
       "5  37, 5-1, 4th Floor, Bosco Court, Gandhi Bazaar...   \n",
       "6  19/1, New Timberyard Layout, Beside Satellite ...   \n",
       "7  2469, 3rd Floor, 24th Cross, Opposite BDA Comp...   \n",
       "8  1, 30th Main Road, 3rd Stage, Banashankari, Ba...   \n",
       "9  2470, 21 Main Road, 25th Cross, Banashankari, ...   \n",
       "\n",
       "                                              name online_order book_table  \\\n",
       "0                                            Jalsa          Yes        Yes   \n",
       "1                                   Spice Elephant          Yes         No   \n",
       "2                                  San Churro Cafe          Yes         No   \n",
       "3                            Addhuri Udupi Bhojana           No         No   \n",
       "4                                    Grand Village           No         No   \n",
       "5                                  Timepass Dinner          Yes         No   \n",
       "6  Rosewood International Hotel - Bar & Restaurant           No         No   \n",
       "7                                           Onesta          Yes        Yes   \n",
       "8                                   Penthouse Cafe          Yes         No   \n",
       "9                                        Smacznego          Yes         No   \n",
       "\n",
       "    rate  votes                             phone      location  \\\n",
       "0  4.1/5    775    080 42297555\\r\\n+91 9743772233  Banashankari   \n",
       "1  4.1/5    787                      080 41714161  Banashankari   \n",
       "2  3.8/5    918                    +91 9663487993  Banashankari   \n",
       "3  3.7/5     88                    +91 9620009302  Banashankari   \n",
       "4  3.8/5    166  +91 8026612447\\r\\n+91 9901210005  Basavanagudi   \n",
       "5  3.8/5    286  +91 9980040002\\r\\n+91 9980063005  Basavanagudi   \n",
       "6  3.6/5      8    +91 9731716688\\r\\n080 26740366   Mysore Road   \n",
       "7  4.6/5   2556      080 48653961\\r\\n080 48655715  Banashankari   \n",
       "8  4.0/5    324  +91 8884135549\\r\\n+91 9449449316  Banashankari   \n",
       "9  4.2/5    504  +91 9945230807\\r\\n+91 9743804471  Banashankari   \n",
       "\n",
       "             rest_type                                         dish_liked  \\\n",
       "0        Casual Dining  Pasta, Lunch Buffet, Masala Papad, Paneer Laja...   \n",
       "1        Casual Dining  Momos, Lunch Buffet, Chocolate Nirvana, Thai G...   \n",
       "2  Cafe, Casual Dining  Churros, Cannelloni, Minestrone Soup, Hot Choc...   \n",
       "3          Quick Bites                                        Masala Dosa   \n",
       "4        Casual Dining                                Panipuri, Gol Gappe   \n",
       "5        Casual Dining  Onion Rings, Pasta, Kadhai Paneer, Salads, Sal...   \n",
       "6        Casual Dining                                                NaN   \n",
       "7  Casual Dining, Cafe  Farmhouse Pizza, Chocolate Banana, Virgin Moji...   \n",
       "8                 Cafe  Pizza, Mocktails, Coffee, Nachos, Salad, Pasta...   \n",
       "9                 Cafe  Waffles, Pasta, Coleslaw Sandwich, Choco Waffl...   \n",
       "\n",
       "                                      cuisines approx_cost(for two people)  \\\n",
       "0               North Indian, Mughlai, Chinese                         800   \n",
       "1                  Chinese, North Indian, Thai                         800   \n",
       "2                       Cafe, Mexican, Italian                         800   \n",
       "3                   South Indian, North Indian                         300   \n",
       "4                     North Indian, Rajasthani                         600   \n",
       "5                                 North Indian                         600   \n",
       "6  North Indian, South Indian, Andhra, Chinese                         800   \n",
       "7                         Pizza, Cafe, Italian                         600   \n",
       "8                   Cafe, Italian, Continental                         700   \n",
       "9     Cafe, Mexican, Italian, Momos, Beverages                         550   \n",
       "\n",
       "                                        reviews_list menu_item  \\\n",
       "0  [('Rated 4.0', 'RATED\\n  A beautiful place to ...        []   \n",
       "1  [('Rated 4.0', 'RATED\\n  Had been here for din...        []   \n",
       "2  [('Rated 3.0', \"RATED\\n  Ambience is not that ...        []   \n",
       "3  [('Rated 4.0', \"RATED\\n  Great food and proper...        []   \n",
       "4  [('Rated 4.0', 'RATED\\n  Very good restaurant ...        []   \n",
       "5  [('Rated 3.0', 'RATED\\n  Food 3/5\\nAmbience 3/...        []   \n",
       "6  [('Rated 5.0', 'RATED\\n  Awesome food ??Great ...        []   \n",
       "7  [('Rated 5.0', 'RATED\\n  I personally really l...        []   \n",
       "8  [('Rated 3.0', \"RATED\\n  I had been to this pl...        []   \n",
       "9  [('Rated 4.0', \"RATED\\n  Easy to locate\\nVFM 3...        []   \n",
       "\n",
       "  listed_in(type) listed_in(city)  \n",
       "0          Buffet    Banashankari  \n",
       "1          Buffet    Banashankari  \n",
       "2          Buffet    Banashankari  \n",
       "3          Buffet    Banashankari  \n",
       "4          Buffet    Banashankari  \n",
       "5          Buffet    Banashankari  \n",
       "6          Buffet    Banashankari  \n",
       "7           Cafes    Banashankari  \n",
       "8           Cafes    Banashankari  \n",
       "9           Cafes    Banashankari  "
      ]
     },
     "execution_count": 3,
     "metadata": {},
     "output_type": "execute_result"
    }
   ],
   "source": [
    "df = pd.read_csv(\"/kaggle/input/zomato-bangalore-restaurants/zomato.csv\")\n",
    "df.head(10)"
   ]
  },
  {
   "cell_type": "code",
   "execution_count": 4,
   "id": "d18cf95d",
   "metadata": {
    "execution": {
     "iopub.execute_input": "2023-06-01T07:46:46.645037Z",
     "iopub.status.busy": "2023-06-01T07:46:46.643917Z",
     "iopub.status.idle": "2023-06-01T07:46:46.651972Z",
     "shell.execute_reply": "2023-06-01T07:46:46.650652Z"
    },
    "papermill": {
     "duration": 0.031946,
     "end_time": "2023-06-01T07:46:46.654576",
     "exception": false,
     "start_time": "2023-06-01T07:46:46.622630",
     "status": "completed"
    },
    "tags": []
   },
   "outputs": [
    {
     "data": {
      "text/plain": [
       "(51717, 17)"
      ]
     },
     "execution_count": 4,
     "metadata": {},
     "output_type": "execute_result"
    }
   ],
   "source": [
    "df.shape \n",
    "# No. of rows = 51717 and No. of Columns = 17"
   ]
  },
  {
   "cell_type": "code",
   "execution_count": 5,
   "id": "9aed043f",
   "metadata": {
    "execution": {
     "iopub.execute_input": "2023-06-01T07:46:46.695548Z",
     "iopub.status.busy": "2023-06-01T07:46:46.694655Z",
     "iopub.status.idle": "2023-06-01T07:46:46.705546Z",
     "shell.execute_reply": "2023-06-01T07:46:46.703928Z"
    },
    "papermill": {
     "duration": 0.034703,
     "end_time": "2023-06-01T07:46:46.708466",
     "exception": false,
     "start_time": "2023-06-01T07:46:46.673763",
     "status": "completed"
    },
    "tags": []
   },
   "outputs": [
    {
     "data": {
      "text/plain": [
       "Index(['url', 'address', 'name', 'online_order', 'book_table', 'rate', 'votes',\n",
       "       'phone', 'location', 'rest_type', 'dish_liked', 'cuisines',\n",
       "       'approx_cost(for two people)', 'reviews_list', 'menu_item',\n",
       "       'listed_in(type)', 'listed_in(city)'],\n",
       "      dtype='object')"
      ]
     },
     "execution_count": 5,
     "metadata": {},
     "output_type": "execute_result"
    }
   ],
   "source": [
    "df.columns"
   ]
  },
  {
   "cell_type": "code",
   "execution_count": 6,
   "id": "cd33e73c",
   "metadata": {
    "execution": {
     "iopub.execute_input": "2023-06-01T07:46:46.747857Z",
     "iopub.status.busy": "2023-06-01T07:46:46.747450Z",
     "iopub.status.idle": "2023-06-01T07:46:46.767039Z",
     "shell.execute_reply": "2023-06-01T07:46:46.765691Z"
    },
    "papermill": {
     "duration": 0.043215,
     "end_time": "2023-06-01T07:46:46.770547",
     "exception": false,
     "start_time": "2023-06-01T07:46:46.727332",
     "status": "completed"
    },
    "tags": []
   },
   "outputs": [],
   "source": [
    "# Removing unwanted columns\n",
    "df = df.drop(['url','address','phone','menu_item', 'dish_liked','reviews_list'], axis =1)"
   ]
  },
  {
   "cell_type": "code",
   "execution_count": 7,
   "id": "96a8be75",
   "metadata": {
    "execution": {
     "iopub.execute_input": "2023-06-01T07:46:46.811182Z",
     "iopub.status.busy": "2023-06-01T07:46:46.810461Z",
     "iopub.status.idle": "2023-06-01T07:46:46.831421Z",
     "shell.execute_reply": "2023-06-01T07:46:46.830245Z"
    },
    "papermill": {
     "duration": 0.043844,
     "end_time": "2023-06-01T07:46:46.833864",
     "exception": false,
     "start_time": "2023-06-01T07:46:46.790020",
     "status": "completed"
    },
    "tags": []
   },
   "outputs": [
    {
     "data": {
      "text/html": [
       "<div>\n",
       "<style scoped>\n",
       "    .dataframe tbody tr th:only-of-type {\n",
       "        vertical-align: middle;\n",
       "    }\n",
       "\n",
       "    .dataframe tbody tr th {\n",
       "        vertical-align: top;\n",
       "    }\n",
       "\n",
       "    .dataframe thead th {\n",
       "        text-align: right;\n",
       "    }\n",
       "</style>\n",
       "<table border=\"1\" class=\"dataframe\">\n",
       "  <thead>\n",
       "    <tr style=\"text-align: right;\">\n",
       "      <th></th>\n",
       "      <th>name</th>\n",
       "      <th>online_order</th>\n",
       "      <th>book_table</th>\n",
       "      <th>rate</th>\n",
       "      <th>votes</th>\n",
       "      <th>location</th>\n",
       "      <th>rest_type</th>\n",
       "      <th>cuisines</th>\n",
       "      <th>approx_cost(for two people)</th>\n",
       "      <th>listed_in(type)</th>\n",
       "      <th>listed_in(city)</th>\n",
       "    </tr>\n",
       "  </thead>\n",
       "  <tbody>\n",
       "    <tr>\n",
       "      <th>0</th>\n",
       "      <td>Jalsa</td>\n",
       "      <td>Yes</td>\n",
       "      <td>Yes</td>\n",
       "      <td>4.1/5</td>\n",
       "      <td>775</td>\n",
       "      <td>Banashankari</td>\n",
       "      <td>Casual Dining</td>\n",
       "      <td>North Indian, Mughlai, Chinese</td>\n",
       "      <td>800</td>\n",
       "      <td>Buffet</td>\n",
       "      <td>Banashankari</td>\n",
       "    </tr>\n",
       "    <tr>\n",
       "      <th>1</th>\n",
       "      <td>Spice Elephant</td>\n",
       "      <td>Yes</td>\n",
       "      <td>No</td>\n",
       "      <td>4.1/5</td>\n",
       "      <td>787</td>\n",
       "      <td>Banashankari</td>\n",
       "      <td>Casual Dining</td>\n",
       "      <td>Chinese, North Indian, Thai</td>\n",
       "      <td>800</td>\n",
       "      <td>Buffet</td>\n",
       "      <td>Banashankari</td>\n",
       "    </tr>\n",
       "    <tr>\n",
       "      <th>2</th>\n",
       "      <td>San Churro Cafe</td>\n",
       "      <td>Yes</td>\n",
       "      <td>No</td>\n",
       "      <td>3.8/5</td>\n",
       "      <td>918</td>\n",
       "      <td>Banashankari</td>\n",
       "      <td>Cafe, Casual Dining</td>\n",
       "      <td>Cafe, Mexican, Italian</td>\n",
       "      <td>800</td>\n",
       "      <td>Buffet</td>\n",
       "      <td>Banashankari</td>\n",
       "    </tr>\n",
       "    <tr>\n",
       "      <th>3</th>\n",
       "      <td>Addhuri Udupi Bhojana</td>\n",
       "      <td>No</td>\n",
       "      <td>No</td>\n",
       "      <td>3.7/5</td>\n",
       "      <td>88</td>\n",
       "      <td>Banashankari</td>\n",
       "      <td>Quick Bites</td>\n",
       "      <td>South Indian, North Indian</td>\n",
       "      <td>300</td>\n",
       "      <td>Buffet</td>\n",
       "      <td>Banashankari</td>\n",
       "    </tr>\n",
       "    <tr>\n",
       "      <th>4</th>\n",
       "      <td>Grand Village</td>\n",
       "      <td>No</td>\n",
       "      <td>No</td>\n",
       "      <td>3.8/5</td>\n",
       "      <td>166</td>\n",
       "      <td>Basavanagudi</td>\n",
       "      <td>Casual Dining</td>\n",
       "      <td>North Indian, Rajasthani</td>\n",
       "      <td>600</td>\n",
       "      <td>Buffet</td>\n",
       "      <td>Banashankari</td>\n",
       "    </tr>\n",
       "    <tr>\n",
       "      <th>5</th>\n",
       "      <td>Timepass Dinner</td>\n",
       "      <td>Yes</td>\n",
       "      <td>No</td>\n",
       "      <td>3.8/5</td>\n",
       "      <td>286</td>\n",
       "      <td>Basavanagudi</td>\n",
       "      <td>Casual Dining</td>\n",
       "      <td>North Indian</td>\n",
       "      <td>600</td>\n",
       "      <td>Buffet</td>\n",
       "      <td>Banashankari</td>\n",
       "    </tr>\n",
       "    <tr>\n",
       "      <th>6</th>\n",
       "      <td>Rosewood International Hotel - Bar &amp; Restaurant</td>\n",
       "      <td>No</td>\n",
       "      <td>No</td>\n",
       "      <td>3.6/5</td>\n",
       "      <td>8</td>\n",
       "      <td>Mysore Road</td>\n",
       "      <td>Casual Dining</td>\n",
       "      <td>North Indian, South Indian, Andhra, Chinese</td>\n",
       "      <td>800</td>\n",
       "      <td>Buffet</td>\n",
       "      <td>Banashankari</td>\n",
       "    </tr>\n",
       "    <tr>\n",
       "      <th>7</th>\n",
       "      <td>Onesta</td>\n",
       "      <td>Yes</td>\n",
       "      <td>Yes</td>\n",
       "      <td>4.6/5</td>\n",
       "      <td>2556</td>\n",
       "      <td>Banashankari</td>\n",
       "      <td>Casual Dining, Cafe</td>\n",
       "      <td>Pizza, Cafe, Italian</td>\n",
       "      <td>600</td>\n",
       "      <td>Cafes</td>\n",
       "      <td>Banashankari</td>\n",
       "    </tr>\n",
       "    <tr>\n",
       "      <th>8</th>\n",
       "      <td>Penthouse Cafe</td>\n",
       "      <td>Yes</td>\n",
       "      <td>No</td>\n",
       "      <td>4.0/5</td>\n",
       "      <td>324</td>\n",
       "      <td>Banashankari</td>\n",
       "      <td>Cafe</td>\n",
       "      <td>Cafe, Italian, Continental</td>\n",
       "      <td>700</td>\n",
       "      <td>Cafes</td>\n",
       "      <td>Banashankari</td>\n",
       "    </tr>\n",
       "    <tr>\n",
       "      <th>9</th>\n",
       "      <td>Smacznego</td>\n",
       "      <td>Yes</td>\n",
       "      <td>No</td>\n",
       "      <td>4.2/5</td>\n",
       "      <td>504</td>\n",
       "      <td>Banashankari</td>\n",
       "      <td>Cafe</td>\n",
       "      <td>Cafe, Mexican, Italian, Momos, Beverages</td>\n",
       "      <td>550</td>\n",
       "      <td>Cafes</td>\n",
       "      <td>Banashankari</td>\n",
       "    </tr>\n",
       "  </tbody>\n",
       "</table>\n",
       "</div>"
      ],
      "text/plain": [
       "                                              name online_order book_table  \\\n",
       "0                                            Jalsa          Yes        Yes   \n",
       "1                                   Spice Elephant          Yes         No   \n",
       "2                                  San Churro Cafe          Yes         No   \n",
       "3                            Addhuri Udupi Bhojana           No         No   \n",
       "4                                    Grand Village           No         No   \n",
       "5                                  Timepass Dinner          Yes         No   \n",
       "6  Rosewood International Hotel - Bar & Restaurant           No         No   \n",
       "7                                           Onesta          Yes        Yes   \n",
       "8                                   Penthouse Cafe          Yes         No   \n",
       "9                                        Smacznego          Yes         No   \n",
       "\n",
       "    rate  votes      location            rest_type  \\\n",
       "0  4.1/5    775  Banashankari        Casual Dining   \n",
       "1  4.1/5    787  Banashankari        Casual Dining   \n",
       "2  3.8/5    918  Banashankari  Cafe, Casual Dining   \n",
       "3  3.7/5     88  Banashankari          Quick Bites   \n",
       "4  3.8/5    166  Basavanagudi        Casual Dining   \n",
       "5  3.8/5    286  Basavanagudi        Casual Dining   \n",
       "6  3.6/5      8   Mysore Road        Casual Dining   \n",
       "7  4.6/5   2556  Banashankari  Casual Dining, Cafe   \n",
       "8  4.0/5    324  Banashankari                 Cafe   \n",
       "9  4.2/5    504  Banashankari                 Cafe   \n",
       "\n",
       "                                      cuisines approx_cost(for two people)  \\\n",
       "0               North Indian, Mughlai, Chinese                         800   \n",
       "1                  Chinese, North Indian, Thai                         800   \n",
       "2                       Cafe, Mexican, Italian                         800   \n",
       "3                   South Indian, North Indian                         300   \n",
       "4                     North Indian, Rajasthani                         600   \n",
       "5                                 North Indian                         600   \n",
       "6  North Indian, South Indian, Andhra, Chinese                         800   \n",
       "7                         Pizza, Cafe, Italian                         600   \n",
       "8                   Cafe, Italian, Continental                         700   \n",
       "9     Cafe, Mexican, Italian, Momos, Beverages                         550   \n",
       "\n",
       "  listed_in(type) listed_in(city)  \n",
       "0          Buffet    Banashankari  \n",
       "1          Buffet    Banashankari  \n",
       "2          Buffet    Banashankari  \n",
       "3          Buffet    Banashankari  \n",
       "4          Buffet    Banashankari  \n",
       "5          Buffet    Banashankari  \n",
       "6          Buffet    Banashankari  \n",
       "7           Cafes    Banashankari  \n",
       "8           Cafes    Banashankari  \n",
       "9           Cafes    Banashankari  "
      ]
     },
     "execution_count": 7,
     "metadata": {},
     "output_type": "execute_result"
    }
   ],
   "source": [
    "df.head(10)"
   ]
  },
  {
   "cell_type": "code",
   "execution_count": 8,
   "id": "56b3a7ae",
   "metadata": {
    "execution": {
     "iopub.execute_input": "2023-06-01T07:46:46.874779Z",
     "iopub.status.busy": "2023-06-01T07:46:46.874063Z",
     "iopub.status.idle": "2023-06-01T07:46:47.057807Z",
     "shell.execute_reply": "2023-06-01T07:46:47.056494Z"
    },
    "papermill": {
     "duration": 0.207476,
     "end_time": "2023-06-01T07:46:47.060557",
     "exception": false,
     "start_time": "2023-06-01T07:46:46.853081",
     "status": "completed"
    },
    "tags": []
   },
   "outputs": [
    {
     "name": "stdout",
     "output_type": "stream",
     "text": [
      "<class 'pandas.core.frame.DataFrame'>\n",
      "RangeIndex: 51717 entries, 0 to 51716\n",
      "Data columns (total 11 columns):\n",
      " #   Column                       Non-Null Count  Dtype \n",
      "---  ------                       --------------  ----- \n",
      " 0   name                         51717 non-null  object\n",
      " 1   online_order                 51717 non-null  object\n",
      " 2   book_table                   51717 non-null  object\n",
      " 3   rate                         43942 non-null  object\n",
      " 4   votes                        51717 non-null  int64 \n",
      " 5   location                     51696 non-null  object\n",
      " 6   rest_type                    51490 non-null  object\n",
      " 7   cuisines                     51672 non-null  object\n",
      " 8   approx_cost(for two people)  51371 non-null  object\n",
      " 9   listed_in(type)              51717 non-null  object\n",
      " 10  listed_in(city)              51717 non-null  object\n",
      "dtypes: int64(1), object(10)\n",
      "memory usage: 4.3+ MB\n"
     ]
    }
   ],
   "source": [
    "df.info()"
   ]
  },
  {
   "cell_type": "markdown",
   "id": "a1452dd4",
   "metadata": {
    "papermill": {
     "duration": 0.019898,
     "end_time": "2023-06-01T07:46:47.099714",
     "exception": false,
     "start_time": "2023-06-01T07:46:47.079816",
     "status": "completed"
    },
    "tags": []
   },
   "source": [
    "Null Values present for columns - \n",
    "* rate \n",
    "* location\n",
    "* rest_type\n",
    "* cuisines\n",
    "* approx_cost(for two people)"
   ]
  },
  {
   "cell_type": "code",
   "execution_count": 9,
   "id": "261dd9b2",
   "metadata": {
    "execution": {
     "iopub.execute_input": "2023-06-01T07:46:47.141742Z",
     "iopub.status.busy": "2023-06-01T07:46:47.141016Z",
     "iopub.status.idle": "2023-06-01T07:46:47.242986Z",
     "shell.execute_reply": "2023-06-01T07:46:47.241788Z"
    },
    "papermill": {
     "duration": 0.126364,
     "end_time": "2023-06-01T07:46:47.245855",
     "exception": false,
     "start_time": "2023-06-01T07:46:47.119491",
     "status": "completed"
    },
    "tags": []
   },
   "outputs": [
    {
     "data": {
      "text/plain": [
       "(51609, 11)"
      ]
     },
     "execution_count": 9,
     "metadata": {},
     "output_type": "execute_result"
    }
   ],
   "source": [
    "# Removing duplicate rows if any\n",
    "df.drop_duplicates(inplace = True)\n",
    "df.shape"
   ]
  },
  {
   "cell_type": "markdown",
   "id": "2a85604c",
   "metadata": {
    "papermill": {
     "duration": 0.02062,
     "end_time": "2023-06-01T07:46:47.286943",
     "exception": false,
     "start_time": "2023-06-01T07:46:47.266323",
     "status": "completed"
    },
    "tags": []
   },
   "source": [
    "No. of dupicate rows = (51717 - 51609) = 108 rows removed."
   ]
  },
  {
   "cell_type": "markdown",
   "id": "35605969",
   "metadata": {
    "papermill": {
     "duration": 0.019753,
     "end_time": "2023-06-01T07:46:47.326488",
     "exception": false,
     "start_time": "2023-06-01T07:46:47.306735",
     "status": "completed"
    },
    "tags": []
   },
   "source": [
    "# Cleaning Rate Column"
   ]
  },
  {
   "cell_type": "code",
   "execution_count": 10,
   "id": "5011c92e",
   "metadata": {
    "execution": {
     "iopub.execute_input": "2023-06-01T07:46:47.369290Z",
     "iopub.status.busy": "2023-06-01T07:46:47.368288Z",
     "iopub.status.idle": "2023-06-01T07:46:47.383474Z",
     "shell.execute_reply": "2023-06-01T07:46:47.382044Z"
    },
    "papermill": {
     "duration": 0.038969,
     "end_time": "2023-06-01T07:46:47.386012",
     "exception": false,
     "start_time": "2023-06-01T07:46:47.347043",
     "status": "completed"
    },
    "tags": []
   },
   "outputs": [
    {
     "data": {
      "text/plain": [
       "array(['4.1/5', '3.8/5', '3.7/5', '3.6/5', '4.6/5', '4.0/5', '4.2/5',\n",
       "       '3.9/5', '3.1/5', '3.0/5', '3.2/5', '3.3/5', '2.8/5', '4.4/5',\n",
       "       '4.3/5', 'NEW', '2.9/5', '3.5/5', nan, '2.6/5', '3.8 /5', '3.4/5',\n",
       "       '4.5/5', '2.5/5', '2.7/5', '4.7/5', '2.4/5', '2.2/5', '2.3/5',\n",
       "       '3.4 /5', '-', '3.6 /5', '4.8/5', '3.9 /5', '4.2 /5', '4.0 /5',\n",
       "       '4.1 /5', '3.7 /5', '3.1 /5', '2.9 /5', '3.3 /5', '2.8 /5',\n",
       "       '3.5 /5', '2.7 /5', '2.5 /5', '3.2 /5', '2.6 /5', '4.5 /5',\n",
       "       '4.3 /5', '4.4 /5', '4.9/5', '2.1/5', '2.0/5', '1.8/5', '4.6 /5',\n",
       "       '4.9 /5', '3.0 /5', '4.8 /5', '2.3 /5', '4.7 /5', '2.4 /5',\n",
       "       '2.1 /5', '2.2 /5', '2.0 /5', '1.8 /5'], dtype=object)"
      ]
     },
     "execution_count": 10,
     "metadata": {},
     "output_type": "execute_result"
    }
   ],
   "source": [
    "df.rate.unique()"
   ]
  },
  {
   "cell_type": "markdown",
   "id": "dab4bb99",
   "metadata": {
    "papermill": {
     "duration": 0.019291,
     "end_time": "2023-06-01T07:46:47.425041",
     "exception": false,
     "start_time": "2023-06-01T07:46:47.405750",
     "status": "completed"
    },
    "tags": []
   },
   "source": [
    "# Removing 'NEW', '-', '/5' from rate column"
   ]
  },
  {
   "cell_type": "code",
   "execution_count": 11,
   "id": "c99c4e08",
   "metadata": {
    "execution": {
     "iopub.execute_input": "2023-06-01T07:46:47.465681Z",
     "iopub.status.busy": "2023-06-01T07:46:47.465272Z",
     "iopub.status.idle": "2023-06-01T07:46:47.470538Z",
     "shell.execute_reply": "2023-06-01T07:46:47.469265Z"
    },
    "papermill": {
     "duration": 0.028859,
     "end_time": "2023-06-01T07:46:47.473289",
     "exception": false,
     "start_time": "2023-06-01T07:46:47.444430",
     "status": "completed"
    },
    "tags": []
   },
   "outputs": [],
   "source": [
    "import re"
   ]
  },
  {
   "cell_type": "code",
   "execution_count": 12,
   "id": "c619f651",
   "metadata": {
    "execution": {
     "iopub.execute_input": "2023-06-01T07:46:47.514634Z",
     "iopub.status.busy": "2023-06-01T07:46:47.514187Z",
     "iopub.status.idle": "2023-06-01T07:46:47.668697Z",
     "shell.execute_reply": "2023-06-01T07:46:47.667755Z"
    },
    "papermill": {
     "duration": 0.177865,
     "end_time": "2023-06-01T07:46:47.671073",
     "exception": false,
     "start_time": "2023-06-01T07:46:47.493208",
     "status": "completed"
    },
    "tags": []
   },
   "outputs": [
    {
     "data": {
      "text/html": [
       "<div>\n",
       "<style scoped>\n",
       "    .dataframe tbody tr th:only-of-type {\n",
       "        vertical-align: middle;\n",
       "    }\n",
       "\n",
       "    .dataframe tbody tr th {\n",
       "        vertical-align: top;\n",
       "    }\n",
       "\n",
       "    .dataframe thead th {\n",
       "        text-align: right;\n",
       "    }\n",
       "</style>\n",
       "<table border=\"1\" class=\"dataframe\">\n",
       "  <thead>\n",
       "    <tr style=\"text-align: right;\">\n",
       "      <th></th>\n",
       "      <th>name</th>\n",
       "      <th>online_order</th>\n",
       "      <th>book_table</th>\n",
       "      <th>rate</th>\n",
       "      <th>votes</th>\n",
       "      <th>location</th>\n",
       "      <th>rest_type</th>\n",
       "      <th>cuisines</th>\n",
       "      <th>approx_cost(for two people)</th>\n",
       "      <th>listed_in(type)</th>\n",
       "      <th>listed_in(city)</th>\n",
       "    </tr>\n",
       "  </thead>\n",
       "  <tbody>\n",
       "    <tr>\n",
       "      <th>0</th>\n",
       "      <td>Jalsa</td>\n",
       "      <td>Yes</td>\n",
       "      <td>Yes</td>\n",
       "      <td>4.1</td>\n",
       "      <td>775</td>\n",
       "      <td>Banashankari</td>\n",
       "      <td>Casual Dining</td>\n",
       "      <td>North Indian, Mughlai, Chinese</td>\n",
       "      <td>800</td>\n",
       "      <td>Buffet</td>\n",
       "      <td>Banashankari</td>\n",
       "    </tr>\n",
       "    <tr>\n",
       "      <th>1</th>\n",
       "      <td>Spice Elephant</td>\n",
       "      <td>Yes</td>\n",
       "      <td>No</td>\n",
       "      <td>4.1</td>\n",
       "      <td>787</td>\n",
       "      <td>Banashankari</td>\n",
       "      <td>Casual Dining</td>\n",
       "      <td>Chinese, North Indian, Thai</td>\n",
       "      <td>800</td>\n",
       "      <td>Buffet</td>\n",
       "      <td>Banashankari</td>\n",
       "    </tr>\n",
       "    <tr>\n",
       "      <th>2</th>\n",
       "      <td>San Churro Cafe</td>\n",
       "      <td>Yes</td>\n",
       "      <td>No</td>\n",
       "      <td>3.8</td>\n",
       "      <td>918</td>\n",
       "      <td>Banashankari</td>\n",
       "      <td>Cafe, Casual Dining</td>\n",
       "      <td>Cafe, Mexican, Italian</td>\n",
       "      <td>800</td>\n",
       "      <td>Buffet</td>\n",
       "      <td>Banashankari</td>\n",
       "    </tr>\n",
       "    <tr>\n",
       "      <th>3</th>\n",
       "      <td>Addhuri Udupi Bhojana</td>\n",
       "      <td>No</td>\n",
       "      <td>No</td>\n",
       "      <td>3.7</td>\n",
       "      <td>88</td>\n",
       "      <td>Banashankari</td>\n",
       "      <td>Quick Bites</td>\n",
       "      <td>South Indian, North Indian</td>\n",
       "      <td>300</td>\n",
       "      <td>Buffet</td>\n",
       "      <td>Banashankari</td>\n",
       "    </tr>\n",
       "    <tr>\n",
       "      <th>4</th>\n",
       "      <td>Grand Village</td>\n",
       "      <td>No</td>\n",
       "      <td>No</td>\n",
       "      <td>3.8</td>\n",
       "      <td>166</td>\n",
       "      <td>Basavanagudi</td>\n",
       "      <td>Casual Dining</td>\n",
       "      <td>North Indian, Rajasthani</td>\n",
       "      <td>600</td>\n",
       "      <td>Buffet</td>\n",
       "      <td>Banashankari</td>\n",
       "    </tr>\n",
       "  </tbody>\n",
       "</table>\n",
       "</div>"
      ],
      "text/plain": [
       "                    name online_order book_table  rate  votes      location  \\\n",
       "0                  Jalsa          Yes        Yes   4.1    775  Banashankari   \n",
       "1         Spice Elephant          Yes         No   4.1    787  Banashankari   \n",
       "2        San Churro Cafe          Yes         No   3.8    918  Banashankari   \n",
       "3  Addhuri Udupi Bhojana           No         No   3.7     88  Banashankari   \n",
       "4          Grand Village           No         No   3.8    166  Basavanagudi   \n",
       "\n",
       "             rest_type                        cuisines  \\\n",
       "0        Casual Dining  North Indian, Mughlai, Chinese   \n",
       "1        Casual Dining     Chinese, North Indian, Thai   \n",
       "2  Cafe, Casual Dining          Cafe, Mexican, Italian   \n",
       "3          Quick Bites      South Indian, North Indian   \n",
       "4        Casual Dining        North Indian, Rajasthani   \n",
       "\n",
       "  approx_cost(for two people) listed_in(type) listed_in(city)  \n",
       "0                         800          Buffet    Banashankari  \n",
       "1                         800          Buffet    Banashankari  \n",
       "2                         800          Buffet    Banashankari  \n",
       "3                         300          Buffet    Banashankari  \n",
       "4                         600          Buffet    Banashankari  "
      ]
     },
     "execution_count": 12,
     "metadata": {},
     "output_type": "execute_result"
    }
   ],
   "source": [
    "\n",
    "def rate_clean(x):\n",
    "    if (x=='-' or x=='NEW'):\n",
    "        return np.nan\n",
    "        \n",
    "    else:\n",
    "        m= re.split('/',str(x))\n",
    "        return float(m[0])\n",
    "    \n",
    "        \n",
    "\n",
    "df['rate'] = df['rate'].apply(rate_clean)\n",
    "\n",
    "df.head()\n",
    "    "
   ]
  },
  {
   "cell_type": "markdown",
   "id": "4f8b8369",
   "metadata": {
    "papermill": {
     "duration": 0.02045,
     "end_time": "2023-06-01T07:46:47.711577",
     "exception": false,
     "start_time": "2023-06-01T07:46:47.691127",
     "status": "completed"
    },
    "tags": []
   },
   "source": [
    "# Replace null values in rate column with mean value"
   ]
  },
  {
   "cell_type": "code",
   "execution_count": 13,
   "id": "fe729922",
   "metadata": {
    "execution": {
     "iopub.execute_input": "2023-06-01T07:46:47.754487Z",
     "iopub.status.busy": "2023-06-01T07:46:47.754078Z",
     "iopub.status.idle": "2023-06-01T07:46:47.762453Z",
     "shell.execute_reply": "2023-06-01T07:46:47.761457Z"
    },
    "papermill": {
     "duration": 0.032859,
     "end_time": "2023-06-01T07:46:47.765117",
     "exception": false,
     "start_time": "2023-06-01T07:46:47.732258",
     "status": "completed"
    },
    "tags": []
   },
   "outputs": [],
   "source": [
    "df['rate'].fillna(df['rate'].mean(),inplace =True)"
   ]
  },
  {
   "cell_type": "code",
   "execution_count": 14,
   "id": "ab43ca28",
   "metadata": {
    "execution": {
     "iopub.execute_input": "2023-06-01T07:46:47.808820Z",
     "iopub.status.busy": "2023-06-01T07:46:47.808364Z",
     "iopub.status.idle": "2023-06-01T07:46:47.817416Z",
     "shell.execute_reply": "2023-06-01T07:46:47.816215Z"
    },
    "papermill": {
     "duration": 0.034462,
     "end_time": "2023-06-01T07:46:47.820187",
     "exception": false,
     "start_time": "2023-06-01T07:46:47.785725",
     "status": "completed"
    },
    "tags": []
   },
   "outputs": [
    {
     "data": {
      "text/plain": [
       "0"
      ]
     },
     "execution_count": 14,
     "metadata": {},
     "output_type": "execute_result"
    }
   ],
   "source": [
    "# Check if all nulls are replaced\n",
    "df['rate'].isnull().sum()"
   ]
  },
  {
   "cell_type": "code",
   "execution_count": 15,
   "id": "e6e531d0",
   "metadata": {
    "execution": {
     "iopub.execute_input": "2023-06-01T07:46:47.862610Z",
     "iopub.status.busy": "2023-06-01T07:46:47.862012Z",
     "iopub.status.idle": "2023-06-01T07:46:48.020084Z",
     "shell.execute_reply": "2023-06-01T07:46:48.018744Z"
    },
    "papermill": {
     "duration": 0.182253,
     "end_time": "2023-06-01T07:46:48.022769",
     "exception": false,
     "start_time": "2023-06-01T07:46:47.840516",
     "status": "completed"
    },
    "tags": []
   },
   "outputs": [
    {
     "name": "stdout",
     "output_type": "stream",
     "text": [
      "<class 'pandas.core.frame.DataFrame'>\n",
      "Int64Index: 51609 entries, 0 to 51716\n",
      "Data columns (total 11 columns):\n",
      " #   Column                       Non-Null Count  Dtype  \n",
      "---  ------                       --------------  -----  \n",
      " 0   name                         51609 non-null  object \n",
      " 1   online_order                 51609 non-null  object \n",
      " 2   book_table                   51609 non-null  object \n",
      " 3   rate                         51609 non-null  float64\n",
      " 4   votes                        51609 non-null  int64  \n",
      " 5   location                     51588 non-null  object \n",
      " 6   rest_type                    51382 non-null  object \n",
      " 7   cuisines                     51564 non-null  object \n",
      " 8   approx_cost(for two people)  51265 non-null  object \n",
      " 9   listed_in(type)              51609 non-null  object \n",
      " 10  listed_in(city)              51609 non-null  object \n",
      "dtypes: float64(1), int64(1), object(9)\n",
      "memory usage: 4.7+ MB\n"
     ]
    }
   ],
   "source": [
    "df.info()"
   ]
  },
  {
   "cell_type": "markdown",
   "id": "be1a777b",
   "metadata": {
    "papermill": {
     "duration": 0.020345,
     "end_time": "2023-06-01T07:46:48.064611",
     "exception": false,
     "start_time": "2023-06-01T07:46:48.044266",
     "status": "completed"
    },
    "tags": []
   },
   "source": [
    "# Dropping null values from :\n",
    "* location\n",
    "* rest_type\n",
    "* cuisines\n",
    "* approx_cost(for two people)\n",
    " # as information is missing and can't be derived through any statistical assumptions."
   ]
  },
  {
   "cell_type": "code",
   "execution_count": 16,
   "id": "630b382b",
   "metadata": {
    "execution": {
     "iopub.execute_input": "2023-06-01T07:46:48.110852Z",
     "iopub.status.busy": "2023-06-01T07:46:48.110184Z",
     "iopub.status.idle": "2023-06-01T07:46:48.418276Z",
     "shell.execute_reply": "2023-06-01T07:46:48.416577Z"
    },
    "papermill": {
     "duration": 0.334698,
     "end_time": "2023-06-01T07:46:48.420778",
     "exception": false,
     "start_time": "2023-06-01T07:46:48.086080",
     "status": "completed"
    },
    "tags": []
   },
   "outputs": [
    {
     "name": "stdout",
     "output_type": "stream",
     "text": [
      "<class 'pandas.core.frame.DataFrame'>\n",
      "Int64Index: 51042 entries, 0 to 51716\n",
      "Data columns (total 11 columns):\n",
      " #   Column                       Non-Null Count  Dtype  \n",
      "---  ------                       --------------  -----  \n",
      " 0   name                         51042 non-null  object \n",
      " 1   online_order                 51042 non-null  object \n",
      " 2   book_table                   51042 non-null  object \n",
      " 3   rate                         51042 non-null  float64\n",
      " 4   votes                        51042 non-null  int64  \n",
      " 5   location                     51042 non-null  object \n",
      " 6   rest_type                    51042 non-null  object \n",
      " 7   cuisines                     51042 non-null  object \n",
      " 8   approx_cost(for two people)  51042 non-null  object \n",
      " 9   listed_in(type)              51042 non-null  object \n",
      " 10  listed_in(city)              51042 non-null  object \n",
      "dtypes: float64(1), int64(1), object(9)\n",
      "memory usage: 4.7+ MB\n"
     ]
    }
   ],
   "source": [
    "df.dropna(inplace=True)\n",
    "df.info()\n",
    "# All null values handled."
   ]
  },
  {
   "cell_type": "code",
   "execution_count": 17,
   "id": "5ed09e73",
   "metadata": {
    "execution": {
     "iopub.execute_input": "2023-06-01T07:46:48.463078Z",
     "iopub.status.busy": "2023-06-01T07:46:48.462592Z",
     "iopub.status.idle": "2023-06-01T07:46:48.481726Z",
     "shell.execute_reply": "2023-06-01T07:46:48.480348Z"
    },
    "papermill": {
     "duration": 0.043337,
     "end_time": "2023-06-01T07:46:48.484349",
     "exception": false,
     "start_time": "2023-06-01T07:46:48.441012",
     "status": "completed"
    },
    "tags": []
   },
   "outputs": [
    {
     "data": {
      "text/html": [
       "<div>\n",
       "<style scoped>\n",
       "    .dataframe tbody tr th:only-of-type {\n",
       "        vertical-align: middle;\n",
       "    }\n",
       "\n",
       "    .dataframe tbody tr th {\n",
       "        vertical-align: top;\n",
       "    }\n",
       "\n",
       "    .dataframe thead th {\n",
       "        text-align: right;\n",
       "    }\n",
       "</style>\n",
       "<table border=\"1\" class=\"dataframe\">\n",
       "  <thead>\n",
       "    <tr style=\"text-align: right;\">\n",
       "      <th></th>\n",
       "      <th>name</th>\n",
       "      <th>online_order</th>\n",
       "      <th>book_table</th>\n",
       "      <th>rate</th>\n",
       "      <th>votes</th>\n",
       "      <th>location</th>\n",
       "      <th>rest_type</th>\n",
       "      <th>cuisines</th>\n",
       "      <th>approx_cost(for two people)</th>\n",
       "      <th>listed_in(type)</th>\n",
       "      <th>listed_in(city)</th>\n",
       "    </tr>\n",
       "  </thead>\n",
       "  <tbody>\n",
       "    <tr>\n",
       "      <th>0</th>\n",
       "      <td>Jalsa</td>\n",
       "      <td>Yes</td>\n",
       "      <td>Yes</td>\n",
       "      <td>4.1</td>\n",
       "      <td>775</td>\n",
       "      <td>Banashankari</td>\n",
       "      <td>Casual Dining</td>\n",
       "      <td>North Indian, Mughlai, Chinese</td>\n",
       "      <td>800</td>\n",
       "      <td>Buffet</td>\n",
       "      <td>Banashankari</td>\n",
       "    </tr>\n",
       "    <tr>\n",
       "      <th>1</th>\n",
       "      <td>Spice Elephant</td>\n",
       "      <td>Yes</td>\n",
       "      <td>No</td>\n",
       "      <td>4.1</td>\n",
       "      <td>787</td>\n",
       "      <td>Banashankari</td>\n",
       "      <td>Casual Dining</td>\n",
       "      <td>Chinese, North Indian, Thai</td>\n",
       "      <td>800</td>\n",
       "      <td>Buffet</td>\n",
       "      <td>Banashankari</td>\n",
       "    </tr>\n",
       "    <tr>\n",
       "      <th>2</th>\n",
       "      <td>San Churro Cafe</td>\n",
       "      <td>Yes</td>\n",
       "      <td>No</td>\n",
       "      <td>3.8</td>\n",
       "      <td>918</td>\n",
       "      <td>Banashankari</td>\n",
       "      <td>Cafe, Casual Dining</td>\n",
       "      <td>Cafe, Mexican, Italian</td>\n",
       "      <td>800</td>\n",
       "      <td>Buffet</td>\n",
       "      <td>Banashankari</td>\n",
       "    </tr>\n",
       "    <tr>\n",
       "      <th>3</th>\n",
       "      <td>Addhuri Udupi Bhojana</td>\n",
       "      <td>No</td>\n",
       "      <td>No</td>\n",
       "      <td>3.7</td>\n",
       "      <td>88</td>\n",
       "      <td>Banashankari</td>\n",
       "      <td>Quick Bites</td>\n",
       "      <td>South Indian, North Indian</td>\n",
       "      <td>300</td>\n",
       "      <td>Buffet</td>\n",
       "      <td>Banashankari</td>\n",
       "    </tr>\n",
       "    <tr>\n",
       "      <th>4</th>\n",
       "      <td>Grand Village</td>\n",
       "      <td>No</td>\n",
       "      <td>No</td>\n",
       "      <td>3.8</td>\n",
       "      <td>166</td>\n",
       "      <td>Basavanagudi</td>\n",
       "      <td>Casual Dining</td>\n",
       "      <td>North Indian, Rajasthani</td>\n",
       "      <td>600</td>\n",
       "      <td>Buffet</td>\n",
       "      <td>Banashankari</td>\n",
       "    </tr>\n",
       "  </tbody>\n",
       "</table>\n",
       "</div>"
      ],
      "text/plain": [
       "                    name online_order book_table  rate  votes      location  \\\n",
       "0                  Jalsa          Yes        Yes   4.1    775  Banashankari   \n",
       "1         Spice Elephant          Yes         No   4.1    787  Banashankari   \n",
       "2        San Churro Cafe          Yes         No   3.8    918  Banashankari   \n",
       "3  Addhuri Udupi Bhojana           No         No   3.7     88  Banashankari   \n",
       "4          Grand Village           No         No   3.8    166  Basavanagudi   \n",
       "\n",
       "             rest_type                        cuisines  \\\n",
       "0        Casual Dining  North Indian, Mughlai, Chinese   \n",
       "1        Casual Dining     Chinese, North Indian, Thai   \n",
       "2  Cafe, Casual Dining          Cafe, Mexican, Italian   \n",
       "3          Quick Bites      South Indian, North Indian   \n",
       "4        Casual Dining        North Indian, Rajasthani   \n",
       "\n",
       "  approx_cost(for two people) listed_in(type) listed_in(city)  \n",
       "0                         800          Buffet    Banashankari  \n",
       "1                         800          Buffet    Banashankari  \n",
       "2                         800          Buffet    Banashankari  \n",
       "3                         300          Buffet    Banashankari  \n",
       "4                         600          Buffet    Banashankari  "
      ]
     },
     "execution_count": 17,
     "metadata": {},
     "output_type": "execute_result"
    }
   ],
   "source": [
    "df.head()"
   ]
  },
  {
   "cell_type": "code",
   "execution_count": 18,
   "id": "9077de71",
   "metadata": {
    "execution": {
     "iopub.execute_input": "2023-06-01T07:46:48.528075Z",
     "iopub.status.busy": "2023-06-01T07:46:48.527008Z",
     "iopub.status.idle": "2023-06-01T07:46:48.534196Z",
     "shell.execute_reply": "2023-06-01T07:46:48.532981Z"
    },
    "papermill": {
     "duration": 0.031805,
     "end_time": "2023-06-01T07:46:48.536839",
     "exception": false,
     "start_time": "2023-06-01T07:46:48.505034",
     "status": "completed"
    },
    "tags": []
   },
   "outputs": [],
   "source": [
    "df.rename(columns={'approx_cost(for two people)':'Cost 2 person', 'listed_in(type)':'type','listed_in(city)':'city'},inplace=True)"
   ]
  },
  {
   "cell_type": "code",
   "execution_count": 19,
   "id": "67082280",
   "metadata": {
    "execution": {
     "iopub.execute_input": "2023-06-01T07:46:48.579938Z",
     "iopub.status.busy": "2023-06-01T07:46:48.579492Z",
     "iopub.status.idle": "2023-06-01T07:46:48.597760Z",
     "shell.execute_reply": "2023-06-01T07:46:48.596582Z"
    },
    "papermill": {
     "duration": 0.042997,
     "end_time": "2023-06-01T07:46:48.600369",
     "exception": false,
     "start_time": "2023-06-01T07:46:48.557372",
     "status": "completed"
    },
    "tags": []
   },
   "outputs": [
    {
     "data": {
      "text/html": [
       "<div>\n",
       "<style scoped>\n",
       "    .dataframe tbody tr th:only-of-type {\n",
       "        vertical-align: middle;\n",
       "    }\n",
       "\n",
       "    .dataframe tbody tr th {\n",
       "        vertical-align: top;\n",
       "    }\n",
       "\n",
       "    .dataframe thead th {\n",
       "        text-align: right;\n",
       "    }\n",
       "</style>\n",
       "<table border=\"1\" class=\"dataframe\">\n",
       "  <thead>\n",
       "    <tr style=\"text-align: right;\">\n",
       "      <th></th>\n",
       "      <th>name</th>\n",
       "      <th>online_order</th>\n",
       "      <th>book_table</th>\n",
       "      <th>rate</th>\n",
       "      <th>votes</th>\n",
       "      <th>location</th>\n",
       "      <th>rest_type</th>\n",
       "      <th>cuisines</th>\n",
       "      <th>Cost 2 person</th>\n",
       "      <th>type</th>\n",
       "      <th>city</th>\n",
       "    </tr>\n",
       "  </thead>\n",
       "  <tbody>\n",
       "    <tr>\n",
       "      <th>0</th>\n",
       "      <td>Jalsa</td>\n",
       "      <td>Yes</td>\n",
       "      <td>Yes</td>\n",
       "      <td>4.1</td>\n",
       "      <td>775</td>\n",
       "      <td>Banashankari</td>\n",
       "      <td>Casual Dining</td>\n",
       "      <td>North Indian, Mughlai, Chinese</td>\n",
       "      <td>800</td>\n",
       "      <td>Buffet</td>\n",
       "      <td>Banashankari</td>\n",
       "    </tr>\n",
       "    <tr>\n",
       "      <th>1</th>\n",
       "      <td>Spice Elephant</td>\n",
       "      <td>Yes</td>\n",
       "      <td>No</td>\n",
       "      <td>4.1</td>\n",
       "      <td>787</td>\n",
       "      <td>Banashankari</td>\n",
       "      <td>Casual Dining</td>\n",
       "      <td>Chinese, North Indian, Thai</td>\n",
       "      <td>800</td>\n",
       "      <td>Buffet</td>\n",
       "      <td>Banashankari</td>\n",
       "    </tr>\n",
       "    <tr>\n",
       "      <th>2</th>\n",
       "      <td>San Churro Cafe</td>\n",
       "      <td>Yes</td>\n",
       "      <td>No</td>\n",
       "      <td>3.8</td>\n",
       "      <td>918</td>\n",
       "      <td>Banashankari</td>\n",
       "      <td>Cafe, Casual Dining</td>\n",
       "      <td>Cafe, Mexican, Italian</td>\n",
       "      <td>800</td>\n",
       "      <td>Buffet</td>\n",
       "      <td>Banashankari</td>\n",
       "    </tr>\n",
       "    <tr>\n",
       "      <th>3</th>\n",
       "      <td>Addhuri Udupi Bhojana</td>\n",
       "      <td>No</td>\n",
       "      <td>No</td>\n",
       "      <td>3.7</td>\n",
       "      <td>88</td>\n",
       "      <td>Banashankari</td>\n",
       "      <td>Quick Bites</td>\n",
       "      <td>South Indian, North Indian</td>\n",
       "      <td>300</td>\n",
       "      <td>Buffet</td>\n",
       "      <td>Banashankari</td>\n",
       "    </tr>\n",
       "    <tr>\n",
       "      <th>4</th>\n",
       "      <td>Grand Village</td>\n",
       "      <td>No</td>\n",
       "      <td>No</td>\n",
       "      <td>3.8</td>\n",
       "      <td>166</td>\n",
       "      <td>Basavanagudi</td>\n",
       "      <td>Casual Dining</td>\n",
       "      <td>North Indian, Rajasthani</td>\n",
       "      <td>600</td>\n",
       "      <td>Buffet</td>\n",
       "      <td>Banashankari</td>\n",
       "    </tr>\n",
       "  </tbody>\n",
       "</table>\n",
       "</div>"
      ],
      "text/plain": [
       "                    name online_order book_table  rate  votes      location  \\\n",
       "0                  Jalsa          Yes        Yes   4.1    775  Banashankari   \n",
       "1         Spice Elephant          Yes         No   4.1    787  Banashankari   \n",
       "2        San Churro Cafe          Yes         No   3.8    918  Banashankari   \n",
       "3  Addhuri Udupi Bhojana           No         No   3.7     88  Banashankari   \n",
       "4          Grand Village           No         No   3.8    166  Basavanagudi   \n",
       "\n",
       "             rest_type                        cuisines Cost 2 person    type  \\\n",
       "0        Casual Dining  North Indian, Mughlai, Chinese           800  Buffet   \n",
       "1        Casual Dining     Chinese, North Indian, Thai           800  Buffet   \n",
       "2  Cafe, Casual Dining          Cafe, Mexican, Italian           800  Buffet   \n",
       "3          Quick Bites      South Indian, North Indian           300  Buffet   \n",
       "4        Casual Dining        North Indian, Rajasthani           600  Buffet   \n",
       "\n",
       "           city  \n",
       "0  Banashankari  \n",
       "1  Banashankari  \n",
       "2  Banashankari  \n",
       "3  Banashankari  \n",
       "4  Banashankari  "
      ]
     },
     "execution_count": 19,
     "metadata": {},
     "output_type": "execute_result"
    }
   ],
   "source": [
    "df.head()"
   ]
  },
  {
   "cell_type": "markdown",
   "id": "e8899177",
   "metadata": {
    "papermill": {
     "duration": 0.020789,
     "end_time": "2023-06-01T07:46:48.642095",
     "exception": false,
     "start_time": "2023-06-01T07:46:48.621306",
     "status": "completed"
    },
    "tags": []
   },
   "source": [
    "# Cleaning and converting 'Cost 2 person' column to float datatype"
   ]
  },
  {
   "cell_type": "code",
   "execution_count": 20,
   "id": "919665e0",
   "metadata": {
    "execution": {
     "iopub.execute_input": "2023-06-01T07:46:48.686406Z",
     "iopub.status.busy": "2023-06-01T07:46:48.685970Z",
     "iopub.status.idle": "2023-06-01T07:46:48.697717Z",
     "shell.execute_reply": "2023-06-01T07:46:48.696840Z"
    },
    "papermill": {
     "duration": 0.03702,
     "end_time": "2023-06-01T07:46:48.699956",
     "exception": false,
     "start_time": "2023-06-01T07:46:48.662936",
     "status": "completed"
    },
    "tags": []
   },
   "outputs": [
    {
     "data": {
      "text/plain": [
       "array(['800', '300', '600', '700', '550', '500', '450', '650', '400',\n",
       "       '900', '200', '750', '150', '850', '100', '1,200', '350', '250',\n",
       "       '950', '1,000', '1,500', '1,300', '199', '80', '1,100', '160',\n",
       "       '1,600', '230', '130', '50', '190', '1,700', '1,400', '180',\n",
       "       '1,350', '2,200', '2,000', '1,800', '1,900', '330', '2,500',\n",
       "       '2,100', '3,000', '2,800', '3,400', '40', '1,250', '3,500',\n",
       "       '4,000', '2,400', '2,600', '120', '1,450', '469', '70', '3,200',\n",
       "       '60', '560', '240', '360', '6,000', '1,050', '2,300', '4,100',\n",
       "       '5,000', '3,700', '1,650', '2,700', '4,500', '140'], dtype=object)"
      ]
     },
     "execution_count": 20,
     "metadata": {},
     "output_type": "execute_result"
    }
   ],
   "source": [
    "df['Cost 2 person'].unique()"
   ]
  },
  {
   "cell_type": "code",
   "execution_count": 21,
   "id": "08213e86",
   "metadata": {
    "execution": {
     "iopub.execute_input": "2023-06-01T07:46:48.743617Z",
     "iopub.status.busy": "2023-06-01T07:46:48.743185Z",
     "iopub.status.idle": "2023-06-01T07:46:48.930384Z",
     "shell.execute_reply": "2023-06-01T07:46:48.928430Z"
    },
    "papermill": {
     "duration": 0.212082,
     "end_time": "2023-06-01T07:46:48.933018",
     "exception": false,
     "start_time": "2023-06-01T07:46:48.720936",
     "status": "completed"
    },
    "tags": []
   },
   "outputs": [
    {
     "name": "stdout",
     "output_type": "stream",
     "text": [
      "<class 'pandas.core.frame.DataFrame'>\n",
      "Int64Index: 51042 entries, 0 to 51716\n",
      "Data columns (total 11 columns):\n",
      " #   Column         Non-Null Count  Dtype  \n",
      "---  ------         --------------  -----  \n",
      " 0   name           51042 non-null  object \n",
      " 1   online_order   51042 non-null  object \n",
      " 2   book_table     51042 non-null  object \n",
      " 3   rate           51042 non-null  float64\n",
      " 4   votes          51042 non-null  int64  \n",
      " 5   location       51042 non-null  object \n",
      " 6   rest_type      51042 non-null  object \n",
      " 7   cuisines       51042 non-null  object \n",
      " 8   Cost 2 person  51042 non-null  float64\n",
      " 9   type           51042 non-null  object \n",
      " 10  city           51042 non-null  object \n",
      "dtypes: float64(2), int64(1), object(8)\n",
      "memory usage: 4.7+ MB\n"
     ]
    }
   ],
   "source": [
    "\n",
    "def conv_cost(i):\n",
    "    z=str(i)\n",
    "    z=z.replace(',', '')\n",
    "    return float(z)\n",
    "\n",
    "df['Cost 2 person'] = df['Cost 2 person'].apply(conv_cost)\n",
    "\n",
    "df.info()\n",
    "    "
   ]
  },
  {
   "cell_type": "code",
   "execution_count": 22,
   "id": "bb302dc9",
   "metadata": {
    "execution": {
     "iopub.execute_input": "2023-06-01T07:46:48.978520Z",
     "iopub.status.busy": "2023-06-01T07:46:48.977912Z",
     "iopub.status.idle": "2023-06-01T07:46:48.987983Z",
     "shell.execute_reply": "2023-06-01T07:46:48.987058Z"
    },
    "papermill": {
     "duration": 0.036186,
     "end_time": "2023-06-01T07:46:48.990328",
     "exception": false,
     "start_time": "2023-06-01T07:46:48.954142",
     "status": "completed"
    },
    "tags": []
   },
   "outputs": [
    {
     "data": {
      "text/plain": [
       "<bound method Series.unique of 0         800.0\n",
       "1         800.0\n",
       "2         800.0\n",
       "3         300.0\n",
       "4         600.0\n",
       "          ...  \n",
       "51712    1500.0\n",
       "51713     600.0\n",
       "51714    2000.0\n",
       "51715    2500.0\n",
       "51716    1500.0\n",
       "Name: Cost 2 person, Length: 51042, dtype: float64>"
      ]
     },
     "execution_count": 22,
     "metadata": {},
     "output_type": "execute_result"
    }
   ],
   "source": [
    "df['Cost 2 person'].unique"
   ]
  },
  {
   "cell_type": "code",
   "execution_count": 23,
   "id": "97fbb890",
   "metadata": {
    "execution": {
     "iopub.execute_input": "2023-06-01T07:46:49.035250Z",
     "iopub.status.busy": "2023-06-01T07:46:49.034772Z",
     "iopub.status.idle": "2023-06-01T07:46:49.055582Z",
     "shell.execute_reply": "2023-06-01T07:46:49.054238Z"
    },
    "papermill": {
     "duration": 0.046977,
     "end_time": "2023-06-01T07:46:49.058743",
     "exception": false,
     "start_time": "2023-06-01T07:46:49.011766",
     "status": "completed"
    },
    "tags": []
   },
   "outputs": [
    {
     "data": {
      "text/html": [
       "<div>\n",
       "<style scoped>\n",
       "    .dataframe tbody tr th:only-of-type {\n",
       "        vertical-align: middle;\n",
       "    }\n",
       "\n",
       "    .dataframe tbody tr th {\n",
       "        vertical-align: top;\n",
       "    }\n",
       "\n",
       "    .dataframe thead th {\n",
       "        text-align: right;\n",
       "    }\n",
       "</style>\n",
       "<table border=\"1\" class=\"dataframe\">\n",
       "  <thead>\n",
       "    <tr style=\"text-align: right;\">\n",
       "      <th></th>\n",
       "      <th>name</th>\n",
       "      <th>online_order</th>\n",
       "      <th>book_table</th>\n",
       "      <th>rate</th>\n",
       "      <th>votes</th>\n",
       "      <th>location</th>\n",
       "      <th>rest_type</th>\n",
       "      <th>cuisines</th>\n",
       "      <th>Cost 2 person</th>\n",
       "      <th>type</th>\n",
       "      <th>city</th>\n",
       "    </tr>\n",
       "  </thead>\n",
       "  <tbody>\n",
       "    <tr>\n",
       "      <th>0</th>\n",
       "      <td>Jalsa</td>\n",
       "      <td>Yes</td>\n",
       "      <td>Yes</td>\n",
       "      <td>4.1</td>\n",
       "      <td>775</td>\n",
       "      <td>Banashankari</td>\n",
       "      <td>Casual Dining</td>\n",
       "      <td>North Indian, Mughlai, Chinese</td>\n",
       "      <td>800.0</td>\n",
       "      <td>Buffet</td>\n",
       "      <td>Banashankari</td>\n",
       "    </tr>\n",
       "    <tr>\n",
       "      <th>1</th>\n",
       "      <td>Spice Elephant</td>\n",
       "      <td>Yes</td>\n",
       "      <td>No</td>\n",
       "      <td>4.1</td>\n",
       "      <td>787</td>\n",
       "      <td>Banashankari</td>\n",
       "      <td>Casual Dining</td>\n",
       "      <td>Chinese, North Indian, Thai</td>\n",
       "      <td>800.0</td>\n",
       "      <td>Buffet</td>\n",
       "      <td>Banashankari</td>\n",
       "    </tr>\n",
       "    <tr>\n",
       "      <th>2</th>\n",
       "      <td>San Churro Cafe</td>\n",
       "      <td>Yes</td>\n",
       "      <td>No</td>\n",
       "      <td>3.8</td>\n",
       "      <td>918</td>\n",
       "      <td>Banashankari</td>\n",
       "      <td>Cafe, Casual Dining</td>\n",
       "      <td>Cafe, Mexican, Italian</td>\n",
       "      <td>800.0</td>\n",
       "      <td>Buffet</td>\n",
       "      <td>Banashankari</td>\n",
       "    </tr>\n",
       "    <tr>\n",
       "      <th>3</th>\n",
       "      <td>Addhuri Udupi Bhojana</td>\n",
       "      <td>No</td>\n",
       "      <td>No</td>\n",
       "      <td>3.7</td>\n",
       "      <td>88</td>\n",
       "      <td>Banashankari</td>\n",
       "      <td>Quick Bites</td>\n",
       "      <td>South Indian, North Indian</td>\n",
       "      <td>300.0</td>\n",
       "      <td>Buffet</td>\n",
       "      <td>Banashankari</td>\n",
       "    </tr>\n",
       "    <tr>\n",
       "      <th>4</th>\n",
       "      <td>Grand Village</td>\n",
       "      <td>No</td>\n",
       "      <td>No</td>\n",
       "      <td>3.8</td>\n",
       "      <td>166</td>\n",
       "      <td>Basavanagudi</td>\n",
       "      <td>Casual Dining</td>\n",
       "      <td>North Indian, Rajasthani</td>\n",
       "      <td>600.0</td>\n",
       "      <td>Buffet</td>\n",
       "      <td>Banashankari</td>\n",
       "    </tr>\n",
       "  </tbody>\n",
       "</table>\n",
       "</div>"
      ],
      "text/plain": [
       "                    name online_order book_table  rate  votes      location  \\\n",
       "0                  Jalsa          Yes        Yes   4.1    775  Banashankari   \n",
       "1         Spice Elephant          Yes         No   4.1    787  Banashankari   \n",
       "2        San Churro Cafe          Yes         No   3.8    918  Banashankari   \n",
       "3  Addhuri Udupi Bhojana           No         No   3.7     88  Banashankari   \n",
       "4          Grand Village           No         No   3.8    166  Basavanagudi   \n",
       "\n",
       "             rest_type                        cuisines  Cost 2 person    type  \\\n",
       "0        Casual Dining  North Indian, Mughlai, Chinese          800.0  Buffet   \n",
       "1        Casual Dining     Chinese, North Indian, Thai          800.0  Buffet   \n",
       "2  Cafe, Casual Dining          Cafe, Mexican, Italian          800.0  Buffet   \n",
       "3          Quick Bites      South Indian, North Indian          300.0  Buffet   \n",
       "4        Casual Dining        North Indian, Rajasthani          600.0  Buffet   \n",
       "\n",
       "           city  \n",
       "0  Banashankari  \n",
       "1  Banashankari  \n",
       "2  Banashankari  \n",
       "3  Banashankari  \n",
       "4  Banashankari  "
      ]
     },
     "execution_count": 23,
     "metadata": {},
     "output_type": "execute_result"
    }
   ],
   "source": [
    "df.head()"
   ]
  },
  {
   "cell_type": "markdown",
   "id": "8fe5e85d",
   "metadata": {
    "papermill": {
     "duration": 0.022719,
     "end_time": "2023-06-01T07:46:49.105644",
     "exception": false,
     "start_time": "2023-06-01T07:46:49.082925",
     "status": "completed"
    },
    "tags": []
   },
   "source": [
    "# Clean \"rest_type\" column"
   ]
  },
  {
   "cell_type": "code",
   "execution_count": 24,
   "id": "0d143911",
   "metadata": {
    "execution": {
     "iopub.execute_input": "2023-06-01T07:46:49.152829Z",
     "iopub.status.busy": "2023-06-01T07:46:49.152036Z",
     "iopub.status.idle": "2023-06-01T07:46:49.169713Z",
     "shell.execute_reply": "2023-06-01T07:46:49.168515Z"
    },
    "papermill": {
     "duration": 0.044165,
     "end_time": "2023-06-01T07:46:49.172336",
     "exception": false,
     "start_time": "2023-06-01T07:46:49.128171",
     "status": "completed"
    },
    "tags": []
   },
   "outputs": [
    {
     "data": {
      "text/plain": [
       "Quick Bites                   19010\n",
       "Casual Dining                 10253\n",
       "Cafe                           3682\n",
       "Delivery                       2574\n",
       "Dessert Parlor                 2242\n",
       "                              ...  \n",
       "Dessert Parlor, Kiosk             2\n",
       "Food Court, Beverage Shop         2\n",
       "Dessert Parlor, Food Court        2\n",
       "Quick Bites, Kiosk                1\n",
       "Sweet Shop, Dessert Parlor        1\n",
       "Name: rest_type, Length: 93, dtype: int64"
      ]
     },
     "execution_count": 24,
     "metadata": {},
     "output_type": "execute_result"
    }
   ],
   "source": [
    "df.rest_type.value_counts()\n"
   ]
  },
  {
   "cell_type": "markdown",
   "id": "54c6705a",
   "metadata": {
    "papermill": {
     "duration": 0.021468,
     "end_time": "2023-06-01T07:46:49.216401",
     "exception": false,
     "start_time": "2023-06-01T07:46:49.194933",
     "status": "completed"
    },
    "tags": []
   },
   "source": [
    "# Club lesser no. of restaurant categories into \"others\". Categories having restaurants less than 1000"
   ]
  },
  {
   "cell_type": "code",
   "execution_count": 25,
   "id": "1556f02f",
   "metadata": {
    "execution": {
     "iopub.execute_input": "2023-06-01T07:46:49.263068Z",
     "iopub.status.busy": "2023-06-01T07:46:49.262243Z",
     "iopub.status.idle": "2023-06-01T07:46:49.279496Z",
     "shell.execute_reply": "2023-06-01T07:46:49.278175Z"
    },
    "papermill": {
     "duration": 0.043986,
     "end_time": "2023-06-01T07:46:49.282098",
     "exception": false,
     "start_time": "2023-06-01T07:46:49.238112",
     "status": "completed"
    },
    "tags": []
   },
   "outputs": [
    {
     "name": "stdout",
     "output_type": "stream",
     "text": [
      "Beverage Shop                 863\n",
      "Bar                           686\n",
      "Food Court                    616\n",
      "Sweet Shop                    468\n",
      "Bar, Casual Dining            411\n",
      "                             ... \n",
      "Dessert Parlor, Kiosk           2\n",
      "Food Court, Beverage Shop       2\n",
      "Dessert Parlor, Food Court      2\n",
      "Quick Bites, Kiosk              1\n",
      "Sweet Shop, Dessert Parlor      1\n",
      "Name: rest_type, Length: 85, dtype: int64\n"
     ]
    }
   ],
   "source": [
    "rest_types_count = df.rest_type.value_counts()\n",
    "rest_less_1000 = rest_types_count[rest_types_count<1000]\n",
    "print(rest_less_1000)"
   ]
  },
  {
   "cell_type": "code",
   "execution_count": 26,
   "id": "77915a83",
   "metadata": {
    "execution": {
     "iopub.execute_input": "2023-06-01T07:46:49.328172Z",
     "iopub.status.busy": "2023-06-01T07:46:49.327474Z",
     "iopub.status.idle": "2023-06-01T07:46:49.335770Z",
     "shell.execute_reply": "2023-06-01T07:46:49.334479Z"
    },
    "papermill": {
     "duration": 0.034046,
     "end_time": "2023-06-01T07:46:49.338142",
     "exception": false,
     "start_time": "2023-06-01T07:46:49.304096",
     "status": "completed"
    },
    "tags": []
   },
   "outputs": [
    {
     "data": {
      "text/plain": [
       "Index(['Beverage Shop', 'Bar', 'Food Court', 'Sweet Shop',\n",
       "       'Bar, Casual Dining', 'Lounge', 'Pub', 'Fine Dining',\n",
       "       'Casual Dining, Cafe', 'Beverage Shop, Quick Bites',\n",
       "       'Bakery, Quick Bites', 'Mess', 'Pub, Casual Dining',\n",
       "       'Sweet Shop, Quick Bites', 'Kiosk', 'Dessert Parlor, Cafe',\n",
       "       'Cafe, Casual Dining', 'Cafe, Bakery', 'Cafe, Dessert Parlor',\n",
       "       'Bakery, Dessert Parlor', 'Microbrewery, Casual Dining',\n",
       "       'Casual Dining, Pub', 'Dessert Parlor, Quick Bites', 'Takeaway',\n",
       "       'Cafe, Quick Bites', 'Quick Bites, Beverage Shop',\n",
       "       'Food Court, Quick Bites', 'Dessert Parlor, Bakery',\n",
       "       'Quick Bites, Dessert Parlor', 'Food Truck', 'Pub, Microbrewery',\n",
       "       'Dessert Parlor, Beverage Shop', 'Beverage Shop, Dessert Parlor',\n",
       "       'Bakery, Cafe', 'Quick Bites, Sweet Shop', 'Quick Bites, Bakery',\n",
       "       'Casual Dining, Microbrewery', 'Microbrewery, Pub', 'Confectionery',\n",
       "       'Quick Bites, Cafe', 'Pub, Cafe', 'Dhaba', 'Pub, Bar',\n",
       "       'Fine Dining, Bar', 'Lounge, Casual Dining', 'Lounge, Bar', 'Club',\n",
       "       'Microbrewery', 'Beverage Shop, Cafe', 'Cafe, Bar',\n",
       "       'Quick Bites, Food Court', 'Bakery, Beverage Shop', 'Lounge, Cafe',\n",
       "       'Lounge, Microbrewery', 'Casual Dining, Irani Cafee', 'Cafe, Lounge',\n",
       "       'Fine Dining, Lounge', 'Microbrewery, Bar', 'Bar, Cafe',\n",
       "       'Dessert Parlor, Sweet Shop', 'Casual Dining, Lounge',\n",
       "       'Bar, Quick Bites', 'Microbrewery, Lounge',\n",
       "       'Food Court, Dessert Parlor', 'Casual Dining, Sweet Shop',\n",
       "       'Bakery, Kiosk', 'Bar, Lounge', 'Food Court, Casual Dining', 'Bar, Pub',\n",
       "       'Fine Dining, Microbrewery', 'Casual Dining, Quick Bites',\n",
       "       'Club, Casual Dining', 'Quick Bites, Mess', 'Quick Bites, Meat Shop',\n",
       "       'Bakery, Sweet Shop', 'Mess, Quick Bites', 'Bhojanalya', 'Pop Up',\n",
       "       'Bakery, Food Court', 'Cafe, Food Court', 'Dessert Parlor, Kiosk',\n",
       "       'Food Court, Beverage Shop', 'Dessert Parlor, Food Court',\n",
       "       'Quick Bites, Kiosk', 'Sweet Shop, Dessert Parlor'],\n",
       "      dtype='object')"
      ]
     },
     "execution_count": 26,
     "metadata": {},
     "output_type": "execute_result"
    }
   ],
   "source": [
    "rest_less_1000.index"
   ]
  },
  {
   "cell_type": "code",
   "execution_count": 27,
   "id": "7355af47",
   "metadata": {
    "execution": {
     "iopub.execute_input": "2023-06-01T07:46:49.386221Z",
     "iopub.status.busy": "2023-06-01T07:46:49.385481Z",
     "iopub.status.idle": "2023-06-01T07:46:49.540977Z",
     "shell.execute_reply": "2023-06-01T07:46:49.539571Z"
    },
    "papermill": {
     "duration": 0.183413,
     "end_time": "2023-06-01T07:46:49.544093",
     "exception": false,
     "start_time": "2023-06-01T07:46:49.360680",
     "status": "completed"
    },
    "tags": []
   },
   "outputs": [
    {
     "data": {
      "text/plain": [
       "Quick Bites           19010\n",
       "Casual Dining         10253\n",
       "Others                 9003\n",
       "Cafe                   3682\n",
       "Delivery               2574\n",
       "Dessert Parlor         2242\n",
       "Takeaway, Delivery     2008\n",
       "Bakery                 1140\n",
       "Casual Dining, Bar     1130\n",
       "Name: rest_type, dtype: int64"
      ]
     },
     "execution_count": 27,
     "metadata": {},
     "output_type": "execute_result"
    }
   ],
   "source": [
    "def category(i):\n",
    "    if i in rest_less_1000.index:\n",
    "        return \"Others\"\n",
    "    else:\n",
    "        return i\n",
    "    \n",
    "df.rest_type = df.rest_type.apply(category)   \n",
    "\n",
    "df.rest_type.value_counts()\n",
    "    \n",
    "        \n"
   ]
  },
  {
   "cell_type": "markdown",
   "id": "f57d345e",
   "metadata": {
    "papermill": {
     "duration": 0.022618,
     "end_time": "2023-06-01T07:46:49.588833",
     "exception": false,
     "start_time": "2023-06-01T07:46:49.566215",
     "status": "completed"
    },
    "tags": []
   },
   "source": [
    "# Location is good enough for our data analysis. City is redundant column. So, eliminating City column"
   ]
  },
  {
   "cell_type": "code",
   "execution_count": 28,
   "id": "bb0fe446",
   "metadata": {
    "execution": {
     "iopub.execute_input": "2023-06-01T07:46:49.635346Z",
     "iopub.status.busy": "2023-06-01T07:46:49.634618Z",
     "iopub.status.idle": "2023-06-01T07:46:49.652506Z",
     "shell.execute_reply": "2023-06-01T07:46:49.651373Z"
    },
    "papermill": {
     "duration": 0.043939,
     "end_time": "2023-06-01T07:46:49.654924",
     "exception": false,
     "start_time": "2023-06-01T07:46:49.610985",
     "status": "completed"
    },
    "tags": []
   },
   "outputs": [
    {
     "data": {
      "text/html": [
       "<div>\n",
       "<style scoped>\n",
       "    .dataframe tbody tr th:only-of-type {\n",
       "        vertical-align: middle;\n",
       "    }\n",
       "\n",
       "    .dataframe tbody tr th {\n",
       "        vertical-align: top;\n",
       "    }\n",
       "\n",
       "    .dataframe thead th {\n",
       "        text-align: right;\n",
       "    }\n",
       "</style>\n",
       "<table border=\"1\" class=\"dataframe\">\n",
       "  <thead>\n",
       "    <tr style=\"text-align: right;\">\n",
       "      <th></th>\n",
       "      <th>name</th>\n",
       "      <th>online_order</th>\n",
       "      <th>book_table</th>\n",
       "      <th>rate</th>\n",
       "      <th>votes</th>\n",
       "      <th>location</th>\n",
       "      <th>rest_type</th>\n",
       "      <th>cuisines</th>\n",
       "      <th>Cost 2 person</th>\n",
       "      <th>type</th>\n",
       "      <th>city</th>\n",
       "    </tr>\n",
       "  </thead>\n",
       "  <tbody>\n",
       "    <tr>\n",
       "      <th>0</th>\n",
       "      <td>Jalsa</td>\n",
       "      <td>Yes</td>\n",
       "      <td>Yes</td>\n",
       "      <td>4.1</td>\n",
       "      <td>775</td>\n",
       "      <td>Banashankari</td>\n",
       "      <td>Casual Dining</td>\n",
       "      <td>North Indian, Mughlai, Chinese</td>\n",
       "      <td>800.0</td>\n",
       "      <td>Buffet</td>\n",
       "      <td>Banashankari</td>\n",
       "    </tr>\n",
       "    <tr>\n",
       "      <th>1</th>\n",
       "      <td>Spice Elephant</td>\n",
       "      <td>Yes</td>\n",
       "      <td>No</td>\n",
       "      <td>4.1</td>\n",
       "      <td>787</td>\n",
       "      <td>Banashankari</td>\n",
       "      <td>Casual Dining</td>\n",
       "      <td>Chinese, North Indian, Thai</td>\n",
       "      <td>800.0</td>\n",
       "      <td>Buffet</td>\n",
       "      <td>Banashankari</td>\n",
       "    </tr>\n",
       "    <tr>\n",
       "      <th>2</th>\n",
       "      <td>San Churro Cafe</td>\n",
       "      <td>Yes</td>\n",
       "      <td>No</td>\n",
       "      <td>3.8</td>\n",
       "      <td>918</td>\n",
       "      <td>Banashankari</td>\n",
       "      <td>Others</td>\n",
       "      <td>Cafe, Mexican, Italian</td>\n",
       "      <td>800.0</td>\n",
       "      <td>Buffet</td>\n",
       "      <td>Banashankari</td>\n",
       "    </tr>\n",
       "    <tr>\n",
       "      <th>3</th>\n",
       "      <td>Addhuri Udupi Bhojana</td>\n",
       "      <td>No</td>\n",
       "      <td>No</td>\n",
       "      <td>3.7</td>\n",
       "      <td>88</td>\n",
       "      <td>Banashankari</td>\n",
       "      <td>Quick Bites</td>\n",
       "      <td>South Indian, North Indian</td>\n",
       "      <td>300.0</td>\n",
       "      <td>Buffet</td>\n",
       "      <td>Banashankari</td>\n",
       "    </tr>\n",
       "    <tr>\n",
       "      <th>4</th>\n",
       "      <td>Grand Village</td>\n",
       "      <td>No</td>\n",
       "      <td>No</td>\n",
       "      <td>3.8</td>\n",
       "      <td>166</td>\n",
       "      <td>Basavanagudi</td>\n",
       "      <td>Casual Dining</td>\n",
       "      <td>North Indian, Rajasthani</td>\n",
       "      <td>600.0</td>\n",
       "      <td>Buffet</td>\n",
       "      <td>Banashankari</td>\n",
       "    </tr>\n",
       "  </tbody>\n",
       "</table>\n",
       "</div>"
      ],
      "text/plain": [
       "                    name online_order book_table  rate  votes      location  \\\n",
       "0                  Jalsa          Yes        Yes   4.1    775  Banashankari   \n",
       "1         Spice Elephant          Yes         No   4.1    787  Banashankari   \n",
       "2        San Churro Cafe          Yes         No   3.8    918  Banashankari   \n",
       "3  Addhuri Udupi Bhojana           No         No   3.7     88  Banashankari   \n",
       "4          Grand Village           No         No   3.8    166  Basavanagudi   \n",
       "\n",
       "       rest_type                        cuisines  Cost 2 person    type  \\\n",
       "0  Casual Dining  North Indian, Mughlai, Chinese          800.0  Buffet   \n",
       "1  Casual Dining     Chinese, North Indian, Thai          800.0  Buffet   \n",
       "2         Others          Cafe, Mexican, Italian          800.0  Buffet   \n",
       "3    Quick Bites      South Indian, North Indian          300.0  Buffet   \n",
       "4  Casual Dining        North Indian, Rajasthani          600.0  Buffet   \n",
       "\n",
       "           city  \n",
       "0  Banashankari  \n",
       "1  Banashankari  \n",
       "2  Banashankari  \n",
       "3  Banashankari  \n",
       "4  Banashankari  "
      ]
     },
     "execution_count": 28,
     "metadata": {},
     "output_type": "execute_result"
    }
   ],
   "source": [
    "df.head()"
   ]
  },
  {
   "cell_type": "code",
   "execution_count": 29,
   "id": "fad567dd",
   "metadata": {
    "execution": {
     "iopub.execute_input": "2023-06-01T07:46:49.703101Z",
     "iopub.status.busy": "2023-06-01T07:46:49.702371Z",
     "iopub.status.idle": "2023-06-01T07:46:49.726686Z",
     "shell.execute_reply": "2023-06-01T07:46:49.725545Z"
    },
    "papermill": {
     "duration": 0.051304,
     "end_time": "2023-06-01T07:46:49.729143",
     "exception": false,
     "start_time": "2023-06-01T07:46:49.677839",
     "status": "completed"
    },
    "tags": []
   },
   "outputs": [
    {
     "data": {
      "text/html": [
       "<div>\n",
       "<style scoped>\n",
       "    .dataframe tbody tr th:only-of-type {\n",
       "        vertical-align: middle;\n",
       "    }\n",
       "\n",
       "    .dataframe tbody tr th {\n",
       "        vertical-align: top;\n",
       "    }\n",
       "\n",
       "    .dataframe thead th {\n",
       "        text-align: right;\n",
       "    }\n",
       "</style>\n",
       "<table border=\"1\" class=\"dataframe\">\n",
       "  <thead>\n",
       "    <tr style=\"text-align: right;\">\n",
       "      <th></th>\n",
       "      <th>name</th>\n",
       "      <th>online_order</th>\n",
       "      <th>book_table</th>\n",
       "      <th>rate</th>\n",
       "      <th>votes</th>\n",
       "      <th>location</th>\n",
       "      <th>rest_type</th>\n",
       "      <th>cuisines</th>\n",
       "      <th>Cost 2 person</th>\n",
       "      <th>type</th>\n",
       "    </tr>\n",
       "  </thead>\n",
       "  <tbody>\n",
       "    <tr>\n",
       "      <th>0</th>\n",
       "      <td>Jalsa</td>\n",
       "      <td>Yes</td>\n",
       "      <td>Yes</td>\n",
       "      <td>4.1</td>\n",
       "      <td>775</td>\n",
       "      <td>Banashankari</td>\n",
       "      <td>Casual Dining</td>\n",
       "      <td>North Indian, Mughlai, Chinese</td>\n",
       "      <td>800.0</td>\n",
       "      <td>Buffet</td>\n",
       "    </tr>\n",
       "    <tr>\n",
       "      <th>1</th>\n",
       "      <td>Spice Elephant</td>\n",
       "      <td>Yes</td>\n",
       "      <td>No</td>\n",
       "      <td>4.1</td>\n",
       "      <td>787</td>\n",
       "      <td>Banashankari</td>\n",
       "      <td>Casual Dining</td>\n",
       "      <td>Chinese, North Indian, Thai</td>\n",
       "      <td>800.0</td>\n",
       "      <td>Buffet</td>\n",
       "    </tr>\n",
       "    <tr>\n",
       "      <th>2</th>\n",
       "      <td>San Churro Cafe</td>\n",
       "      <td>Yes</td>\n",
       "      <td>No</td>\n",
       "      <td>3.8</td>\n",
       "      <td>918</td>\n",
       "      <td>Banashankari</td>\n",
       "      <td>Others</td>\n",
       "      <td>Cafe, Mexican, Italian</td>\n",
       "      <td>800.0</td>\n",
       "      <td>Buffet</td>\n",
       "    </tr>\n",
       "    <tr>\n",
       "      <th>3</th>\n",
       "      <td>Addhuri Udupi Bhojana</td>\n",
       "      <td>No</td>\n",
       "      <td>No</td>\n",
       "      <td>3.7</td>\n",
       "      <td>88</td>\n",
       "      <td>Banashankari</td>\n",
       "      <td>Quick Bites</td>\n",
       "      <td>South Indian, North Indian</td>\n",
       "      <td>300.0</td>\n",
       "      <td>Buffet</td>\n",
       "    </tr>\n",
       "    <tr>\n",
       "      <th>4</th>\n",
       "      <td>Grand Village</td>\n",
       "      <td>No</td>\n",
       "      <td>No</td>\n",
       "      <td>3.8</td>\n",
       "      <td>166</td>\n",
       "      <td>Basavanagudi</td>\n",
       "      <td>Casual Dining</td>\n",
       "      <td>North Indian, Rajasthani</td>\n",
       "      <td>600.0</td>\n",
       "      <td>Buffet</td>\n",
       "    </tr>\n",
       "  </tbody>\n",
       "</table>\n",
       "</div>"
      ],
      "text/plain": [
       "                    name online_order book_table  rate  votes      location  \\\n",
       "0                  Jalsa          Yes        Yes   4.1    775  Banashankari   \n",
       "1         Spice Elephant          Yes         No   4.1    787  Banashankari   \n",
       "2        San Churro Cafe          Yes         No   3.8    918  Banashankari   \n",
       "3  Addhuri Udupi Bhojana           No         No   3.7     88  Banashankari   \n",
       "4          Grand Village           No         No   3.8    166  Basavanagudi   \n",
       "\n",
       "       rest_type                        cuisines  Cost 2 person    type  \n",
       "0  Casual Dining  North Indian, Mughlai, Chinese          800.0  Buffet  \n",
       "1  Casual Dining     Chinese, North Indian, Thai          800.0  Buffet  \n",
       "2         Others          Cafe, Mexican, Italian          800.0  Buffet  \n",
       "3    Quick Bites      South Indian, North Indian          300.0  Buffet  \n",
       "4  Casual Dining        North Indian, Rajasthani          600.0  Buffet  "
      ]
     },
     "execution_count": 29,
     "metadata": {},
     "output_type": "execute_result"
    }
   ],
   "source": [
    "df.drop(\"city\",axis=1,inplace=True)\n",
    "df.head()"
   ]
  },
  {
   "cell_type": "markdown",
   "id": "23e179bc",
   "metadata": {
    "papermill": {
     "duration": 0.022545,
     "end_time": "2023-06-01T07:46:49.774353",
     "exception": false,
     "start_time": "2023-06-01T07:46:49.751808",
     "status": "completed"
    },
    "tags": []
   },
   "source": [
    "# Clubbing Location having less than 300 restaurants as Others"
   ]
  },
  {
   "cell_type": "code",
   "execution_count": 30,
   "id": "dfdb11fc",
   "metadata": {
    "execution": {
     "iopub.execute_input": "2023-06-01T07:46:49.822968Z",
     "iopub.status.busy": "2023-06-01T07:46:49.822290Z",
     "iopub.status.idle": "2023-06-01T07:46:49.839902Z",
     "shell.execute_reply": "2023-06-01T07:46:49.838781Z"
    },
    "papermill": {
     "duration": 0.04469,
     "end_time": "2023-06-01T07:46:49.842218",
     "exception": false,
     "start_time": "2023-06-01T07:46:49.797528",
     "status": "completed"
    },
    "tags": []
   },
   "outputs": [
    {
     "data": {
      "text/plain": [
       "location\n",
       "BTM                  5056\n",
       "Banashankari          902\n",
       "Banaswadi             640\n",
       "Bannerghatta Road    1609\n",
       "Basavanagudi          684\n",
       "                     ... \n",
       "West Bangalore          6\n",
       "Whitefield           2105\n",
       "Wilson Garden         246\n",
       "Yelahanka               5\n",
       "Yeshwantpur           119\n",
       "Length: 93, dtype: int64"
      ]
     },
     "execution_count": 30,
     "metadata": {},
     "output_type": "execute_result"
    }
   ],
   "source": [
    "rest_loc_group = df.groupby('location').size()\n",
    "rest_loc_group"
   ]
  },
  {
   "cell_type": "code",
   "execution_count": 31,
   "id": "5ce3b026",
   "metadata": {
    "execution": {
     "iopub.execute_input": "2023-06-01T07:46:49.890863Z",
     "iopub.status.busy": "2023-06-01T07:46:49.890221Z",
     "iopub.status.idle": "2023-06-01T07:46:49.899552Z",
     "shell.execute_reply": "2023-06-01T07:46:49.898429Z"
    },
    "papermill": {
     "duration": 0.036803,
     "end_time": "2023-06-01T07:46:49.901907",
     "exception": false,
     "start_time": "2023-06-01T07:46:49.865104",
     "status": "completed"
    },
    "tags": []
   },
   "outputs": [
    {
     "data": {
      "text/plain": [
       "location\n",
       "Basaveshwara Nagar               187\n",
       "Bommanahalli                     236\n",
       "CV Raman Nagar                    89\n",
       "Central Bangalore                  8\n",
       "City Market                      122\n",
       "East Bangalore                    43\n",
       "HBR Layout                       153\n",
       "Hebbal                            14\n",
       "Hennur                           159\n",
       "Hosur Road                        98\n",
       "ITPL Main Road, Whitefield       113\n",
       "Infantry Road                    150\n",
       "Jakkur                             3\n",
       "Jalahalli                         38\n",
       "Jeevan Bhima Nagar               268\n",
       "KR Puram                          18\n",
       "Kaggadasapura                    101\n",
       "Kanakapura Road                   19\n",
       "Kengeri                            8\n",
       "Koramangala                       48\n",
       "Koramangala 2nd Block            102\n",
       "Koramangala 3rd Block            215\n",
       "Koramangala 8th Block            294\n",
       "Kumaraswamy Layout               191\n",
       "Langford Town                     27\n",
       "Magadi Road                       34\n",
       "Majestic                         155\n",
       "Mysore Road                       22\n",
       "Nagarbhavi                         9\n",
       "Nagawara                         187\n",
       "North Bangalore                   14\n",
       "Old Madras Road                   22\n",
       "Peenya                             1\n",
       "RT Nagar                          78\n",
       "Race Course Road                 139\n",
       "Rajarajeshwari Nagar               2\n",
       "Rammurthy Nagar                   32\n",
       "Sadashiv Nagar                    63\n",
       "Sahakara Nagar                    53\n",
       "Sanjay Nagar                      76\n",
       "Sankey Road                       27\n",
       "Seshadripuram                    165\n",
       "South Bangalore                  107\n",
       "Thippasandra                     191\n",
       "Uttarahalli                       17\n",
       "Varthur Main Road, Whitefield    109\n",
       "Vasanth Nagar                    293\n",
       "Vijay Nagar                       78\n",
       "West Bangalore                     6\n",
       "Wilson Garden                    246\n",
       "Yelahanka                          5\n",
       "Yeshwantpur                      119\n",
       "dtype: int64"
      ]
     },
     "execution_count": 31,
     "metadata": {},
     "output_type": "execute_result"
    }
   ],
   "source": [
    "rest_less_300 = rest_loc_group[rest_loc_group<300]\n",
    "rest_less_300"
   ]
  },
  {
   "cell_type": "code",
   "execution_count": 32,
   "id": "f852398a",
   "metadata": {
    "execution": {
     "iopub.execute_input": "2023-06-01T07:46:49.950525Z",
     "iopub.status.busy": "2023-06-01T07:46:49.949841Z",
     "iopub.status.idle": "2023-06-01T07:46:50.106657Z",
     "shell.execute_reply": "2023-06-01T07:46:50.105123Z"
    },
    "papermill": {
     "duration": 0.184423,
     "end_time": "2023-06-01T07:46:50.109538",
     "exception": false,
     "start_time": "2023-06-01T07:46:49.925115",
     "status": "completed"
    },
    "tags": []
   },
   "outputs": [
    {
     "data": {
      "text/plain": [
       "location\n",
       "BTM                      5056\n",
       "Banashankari              902\n",
       "Banaswadi                 640\n",
       "Bannerghatta Road        1609\n",
       "Basavanagudi              684\n",
       "Bellandur                1268\n",
       "Brigade Road             1210\n",
       "Brookefield               656\n",
       "Church Street             566\n",
       "Commercial Street         370\n",
       "Cunningham Road           490\n",
       "Domlur                    482\n",
       "Ejipura                   433\n",
       "Electronic City          1246\n",
       "Frazer Town               714\n",
       "HSR                      2494\n",
       "Indiranagar              2026\n",
       "JP Nagar                 2218\n",
       "Jayanagar                1916\n",
       "Kalyan Nagar              841\n",
       "Kammanahalli              639\n",
       "Koramangala 1st Block    1236\n",
       "Koramangala 4th Block    1017\n",
       "Koramangala 5th Block    2479\n",
       "Koramangala 6th Block    1127\n",
       "Koramangala 7th Block    1174\n",
       "Lavelle Road              518\n",
       "MG Road                   893\n",
       "Malleshwaram              721\n",
       "Marathahalli             1805\n",
       "New BEL Road              644\n",
       "Old Airport Road          437\n",
       "Others                   4954\n",
       "Rajajinagar               591\n",
       "Residency Road            671\n",
       "Richmond Road             803\n",
       "Sarjapur Road            1047\n",
       "Shanti Nagar              508\n",
       "Shivajinagar              498\n",
       "St. Marks Road            343\n",
       "Ulsoor                   1011\n",
       "Whitefield               2105\n",
       "dtype: int64"
      ]
     },
     "execution_count": 32,
     "metadata": {},
     "output_type": "execute_result"
    }
   ],
   "source": [
    "def loc_category(i):\n",
    "    if i in rest_less_300.index:\n",
    "        return \"Others\"\n",
    "    else:\n",
    "        return i\n",
    "    \n",
    "df.location = df.location.apply(loc_category)   \n",
    "\n",
    "df.groupby('location').size()"
   ]
  },
  {
   "cell_type": "code",
   "execution_count": 33,
   "id": "8fb46c8c",
   "metadata": {
    "execution": {
     "iopub.execute_input": "2023-06-01T07:46:50.161784Z",
     "iopub.status.busy": "2023-06-01T07:46:50.161376Z",
     "iopub.status.idle": "2023-06-01T07:46:50.168859Z",
     "shell.execute_reply": "2023-06-01T07:46:50.167655Z"
    },
    "papermill": {
     "duration": 0.036555,
     "end_time": "2023-06-01T07:46:50.171403",
     "exception": false,
     "start_time": "2023-06-01T07:46:50.134848",
     "status": "completed"
    },
    "tags": []
   },
   "outputs": [
    {
     "data": {
      "text/plain": [
       "4954"
      ]
     },
     "execution_count": 33,
     "metadata": {},
     "output_type": "execute_result"
    }
   ],
   "source": [
    "rest_less_300.sum()\n",
    "# Both Groupby and Sum is matching for Others category"
   ]
  },
  {
   "cell_type": "code",
   "execution_count": 34,
   "id": "e5d00a14",
   "metadata": {
    "execution": {
     "iopub.execute_input": "2023-06-01T07:46:50.222075Z",
     "iopub.status.busy": "2023-06-01T07:46:50.221655Z",
     "iopub.status.idle": "2023-06-01T07:46:50.239567Z",
     "shell.execute_reply": "2023-06-01T07:46:50.238482Z"
    },
    "papermill": {
     "duration": 0.046187,
     "end_time": "2023-06-01T07:46:50.241894",
     "exception": false,
     "start_time": "2023-06-01T07:46:50.195707",
     "status": "completed"
    },
    "tags": []
   },
   "outputs": [
    {
     "data": {
      "text/html": [
       "<div>\n",
       "<style scoped>\n",
       "    .dataframe tbody tr th:only-of-type {\n",
       "        vertical-align: middle;\n",
       "    }\n",
       "\n",
       "    .dataframe tbody tr th {\n",
       "        vertical-align: top;\n",
       "    }\n",
       "\n",
       "    .dataframe thead th {\n",
       "        text-align: right;\n",
       "    }\n",
       "</style>\n",
       "<table border=\"1\" class=\"dataframe\">\n",
       "  <thead>\n",
       "    <tr style=\"text-align: right;\">\n",
       "      <th></th>\n",
       "      <th>name</th>\n",
       "      <th>online_order</th>\n",
       "      <th>book_table</th>\n",
       "      <th>rate</th>\n",
       "      <th>votes</th>\n",
       "      <th>location</th>\n",
       "      <th>rest_type</th>\n",
       "      <th>cuisines</th>\n",
       "      <th>Cost 2 person</th>\n",
       "      <th>type</th>\n",
       "    </tr>\n",
       "  </thead>\n",
       "  <tbody>\n",
       "    <tr>\n",
       "      <th>0</th>\n",
       "      <td>Jalsa</td>\n",
       "      <td>Yes</td>\n",
       "      <td>Yes</td>\n",
       "      <td>4.1</td>\n",
       "      <td>775</td>\n",
       "      <td>Banashankari</td>\n",
       "      <td>Casual Dining</td>\n",
       "      <td>North Indian, Mughlai, Chinese</td>\n",
       "      <td>800.0</td>\n",
       "      <td>Buffet</td>\n",
       "    </tr>\n",
       "    <tr>\n",
       "      <th>1</th>\n",
       "      <td>Spice Elephant</td>\n",
       "      <td>Yes</td>\n",
       "      <td>No</td>\n",
       "      <td>4.1</td>\n",
       "      <td>787</td>\n",
       "      <td>Banashankari</td>\n",
       "      <td>Casual Dining</td>\n",
       "      <td>Chinese, North Indian, Thai</td>\n",
       "      <td>800.0</td>\n",
       "      <td>Buffet</td>\n",
       "    </tr>\n",
       "    <tr>\n",
       "      <th>2</th>\n",
       "      <td>San Churro Cafe</td>\n",
       "      <td>Yes</td>\n",
       "      <td>No</td>\n",
       "      <td>3.8</td>\n",
       "      <td>918</td>\n",
       "      <td>Banashankari</td>\n",
       "      <td>Others</td>\n",
       "      <td>Cafe, Mexican, Italian</td>\n",
       "      <td>800.0</td>\n",
       "      <td>Buffet</td>\n",
       "    </tr>\n",
       "    <tr>\n",
       "      <th>3</th>\n",
       "      <td>Addhuri Udupi Bhojana</td>\n",
       "      <td>No</td>\n",
       "      <td>No</td>\n",
       "      <td>3.7</td>\n",
       "      <td>88</td>\n",
       "      <td>Banashankari</td>\n",
       "      <td>Quick Bites</td>\n",
       "      <td>South Indian, North Indian</td>\n",
       "      <td>300.0</td>\n",
       "      <td>Buffet</td>\n",
       "    </tr>\n",
       "    <tr>\n",
       "      <th>4</th>\n",
       "      <td>Grand Village</td>\n",
       "      <td>No</td>\n",
       "      <td>No</td>\n",
       "      <td>3.8</td>\n",
       "      <td>166</td>\n",
       "      <td>Basavanagudi</td>\n",
       "      <td>Casual Dining</td>\n",
       "      <td>North Indian, Rajasthani</td>\n",
       "      <td>600.0</td>\n",
       "      <td>Buffet</td>\n",
       "    </tr>\n",
       "  </tbody>\n",
       "</table>\n",
       "</div>"
      ],
      "text/plain": [
       "                    name online_order book_table  rate  votes      location  \\\n",
       "0                  Jalsa          Yes        Yes   4.1    775  Banashankari   \n",
       "1         Spice Elephant          Yes         No   4.1    787  Banashankari   \n",
       "2        San Churro Cafe          Yes         No   3.8    918  Banashankari   \n",
       "3  Addhuri Udupi Bhojana           No         No   3.7     88  Banashankari   \n",
       "4          Grand Village           No         No   3.8    166  Basavanagudi   \n",
       "\n",
       "       rest_type                        cuisines  Cost 2 person    type  \n",
       "0  Casual Dining  North Indian, Mughlai, Chinese          800.0  Buffet  \n",
       "1  Casual Dining     Chinese, North Indian, Thai          800.0  Buffet  \n",
       "2         Others          Cafe, Mexican, Italian          800.0  Buffet  \n",
       "3    Quick Bites      South Indian, North Indian          300.0  Buffet  \n",
       "4  Casual Dining        North Indian, Rajasthani          600.0  Buffet  "
      ]
     },
     "execution_count": 34,
     "metadata": {},
     "output_type": "execute_result"
    }
   ],
   "source": [
    "df.head()"
   ]
  },
  {
   "cell_type": "markdown",
   "id": "60eba4f9",
   "metadata": {
    "papermill": {
     "duration": 0.023668,
     "end_time": "2023-06-01T07:46:50.290241",
     "exception": false,
     "start_time": "2023-06-01T07:46:50.266573",
     "status": "completed"
    },
    "tags": []
   },
   "source": [
    "# Name, Online Order, Book Table, Type and Votes columns check for cleaning"
   ]
  },
  {
   "cell_type": "code",
   "execution_count": 35,
   "id": "db68919f",
   "metadata": {
    "execution": {
     "iopub.execute_input": "2023-06-01T07:46:50.339588Z",
     "iopub.status.busy": "2023-06-01T07:46:50.339140Z",
     "iopub.status.idle": "2023-06-01T07:46:50.367463Z",
     "shell.execute_reply": "2023-06-01T07:46:50.366540Z"
    },
    "papermill": {
     "duration": 0.056096,
     "end_time": "2023-06-01T07:46:50.370107",
     "exception": false,
     "start_time": "2023-06-01T07:46:50.314011",
     "status": "completed"
    },
    "tags": []
   },
   "outputs": [
    {
     "data": {
      "text/plain": [
       "count               51042\n",
       "unique               8723\n",
       "top       Cafe Coffee Day\n",
       "freq                   96\n",
       "Name: name, dtype: object"
      ]
     },
     "execution_count": 35,
     "metadata": {},
     "output_type": "execute_result"
    }
   ],
   "source": [
    "df.name.describe() # Same restaurants have multiple branches, as 8723 restaurants are present 51042 times"
   ]
  },
  {
   "cell_type": "code",
   "execution_count": 36,
   "id": "5993dd2b",
   "metadata": {
    "execution": {
     "iopub.execute_input": "2023-06-01T07:46:50.421016Z",
     "iopub.status.busy": "2023-06-01T07:46:50.419700Z",
     "iopub.status.idle": "2023-06-01T07:46:50.436055Z",
     "shell.execute_reply": "2023-06-01T07:46:50.434902Z"
    },
    "papermill": {
     "duration": 0.044402,
     "end_time": "2023-06-01T07:46:50.438673",
     "exception": false,
     "start_time": "2023-06-01T07:46:50.394271",
     "status": "completed"
    },
    "tags": []
   },
   "outputs": [
    {
     "data": {
      "text/plain": [
       "array(['Jalsa', 'Spice Elephant', 'San Churro Cafe', ..., 'Nawabs Empire',\n",
       "       'SeeYa Restaurant',\n",
       "       'Plunge - Sheraton Grand Bengaluru Whitefield Hotel &...'],\n",
       "      dtype=object)"
      ]
     },
     "execution_count": 36,
     "metadata": {},
     "output_type": "execute_result"
    }
   ],
   "source": [
    "df.name.unique() # No cleaning required"
   ]
  },
  {
   "cell_type": "code",
   "execution_count": 37,
   "id": "b886ef9b",
   "metadata": {
    "execution": {
     "iopub.execute_input": "2023-06-01T07:46:50.490560Z",
     "iopub.status.busy": "2023-06-01T07:46:50.490141Z",
     "iopub.status.idle": "2023-06-01T07:46:50.514131Z",
     "shell.execute_reply": "2023-06-01T07:46:50.512862Z"
    },
    "papermill": {
     "duration": 0.053279,
     "end_time": "2023-06-01T07:46:50.516835",
     "exception": false,
     "start_time": "2023-06-01T07:46:50.463556",
     "status": "completed"
    },
    "tags": []
   },
   "outputs": [
    {
     "data": {
      "text/plain": [
       "count     51042\n",
       "unique        2\n",
       "top          No\n",
       "freq      44626\n",
       "Name: book_table, dtype: object"
      ]
     },
     "execution_count": 37,
     "metadata": {},
     "output_type": "execute_result"
    }
   ],
   "source": [
    "df.book_table.describe() # 2 unique value = Yes and No. No cleaning needed."
   ]
  },
  {
   "cell_type": "code",
   "execution_count": 38,
   "id": "de676d6d",
   "metadata": {
    "execution": {
     "iopub.execute_input": "2023-06-01T07:46:50.568593Z",
     "iopub.status.busy": "2023-06-01T07:46:50.568190Z",
     "iopub.status.idle": "2023-06-01T07:46:50.592628Z",
     "shell.execute_reply": "2023-06-01T07:46:50.591639Z"
    },
    "papermill": {
     "duration": 0.052525,
     "end_time": "2023-06-01T07:46:50.594865",
     "exception": false,
     "start_time": "2023-06-01T07:46:50.542340",
     "status": "completed"
    },
    "tags": []
   },
   "outputs": [
    {
     "data": {
      "text/plain": [
       "count     51042\n",
       "unique        2\n",
       "top         Yes\n",
       "freq      30228\n",
       "Name: online_order, dtype: object"
      ]
     },
     "execution_count": 38,
     "metadata": {},
     "output_type": "execute_result"
    }
   ],
   "source": [
    "df.online_order.describe() # 2 unique value = Yes and No. No cleaning needed."
   ]
  },
  {
   "cell_type": "code",
   "execution_count": 39,
   "id": "de2fc338",
   "metadata": {
    "execution": {
     "iopub.execute_input": "2023-06-01T07:46:50.645448Z",
     "iopub.status.busy": "2023-06-01T07:46:50.645033Z",
     "iopub.status.idle": "2023-06-01T07:46:50.668184Z",
     "shell.execute_reply": "2023-06-01T07:46:50.667343Z"
    },
    "papermill": {
     "duration": 0.051596,
     "end_time": "2023-06-01T07:46:50.670858",
     "exception": false,
     "start_time": "2023-06-01T07:46:50.619262",
     "status": "completed"
    },
    "tags": []
   },
   "outputs": [
    {
     "data": {
      "text/plain": [
       "count        51042\n",
       "unique           7\n",
       "top       Delivery\n",
       "freq         25579\n",
       "Name: type, dtype: object"
      ]
     },
     "execution_count": 39,
     "metadata": {},
     "output_type": "execute_result"
    }
   ],
   "source": [
    "df.type.describe()"
   ]
  },
  {
   "cell_type": "code",
   "execution_count": 40,
   "id": "f54beb36",
   "metadata": {
    "execution": {
     "iopub.execute_input": "2023-06-01T07:46:50.721940Z",
     "iopub.status.busy": "2023-06-01T07:46:50.721476Z",
     "iopub.status.idle": "2023-06-01T07:46:50.738979Z",
     "shell.execute_reply": "2023-06-01T07:46:50.737743Z"
    },
    "papermill": {
     "duration": 0.046064,
     "end_time": "2023-06-01T07:46:50.741531",
     "exception": false,
     "start_time": "2023-06-01T07:46:50.695467",
     "status": "completed"
    },
    "tags": []
   },
   "outputs": [
    {
     "data": {
      "text/plain": [
       "Delivery              25579\n",
       "Dine-out              17562\n",
       "Desserts               3559\n",
       "Cafes                  1703\n",
       "Drinks & nightlife     1084\n",
       "Buffet                  869\n",
       "Pubs and bars           686\n",
       "Name: type, dtype: int64"
      ]
     },
     "execution_count": 40,
     "metadata": {},
     "output_type": "execute_result"
    }
   ],
   "source": [
    "df.type.value_counts() #Good Distribution of data. Hence, no further action needed."
   ]
  },
  {
   "cell_type": "code",
   "execution_count": 41,
   "id": "0551e1e4",
   "metadata": {
    "execution": {
     "iopub.execute_input": "2023-06-01T07:46:50.793471Z",
     "iopub.status.busy": "2023-06-01T07:46:50.792669Z",
     "iopub.status.idle": "2023-06-01T07:46:50.812091Z",
     "shell.execute_reply": "2023-06-01T07:46:50.810983Z"
    },
    "papermill": {
     "duration": 0.048529,
     "end_time": "2023-06-01T07:46:50.814697",
     "exception": false,
     "start_time": "2023-06-01T07:46:50.766168",
     "status": "completed"
    },
    "tags": []
   },
   "outputs": [
    {
     "data": {
      "text/plain": [
       "count    51042.000000\n",
       "mean       284.507700\n",
       "std        805.927478\n",
       "min          0.000000\n",
       "25%          7.000000\n",
       "50%         41.000000\n",
       "75%        199.000000\n",
       "max      16832.000000\n",
       "Name: votes, dtype: float64"
      ]
     },
     "execution_count": 41,
     "metadata": {},
     "output_type": "execute_result"
    }
   ],
   "source": [
    "df.votes.describe() #No cleaning needed"
   ]
  },
  {
   "cell_type": "code",
   "execution_count": 42,
   "id": "e8729f03",
   "metadata": {
    "execution": {
     "iopub.execute_input": "2023-06-01T07:46:50.866261Z",
     "iopub.status.busy": "2023-06-01T07:46:50.865658Z",
     "iopub.status.idle": "2023-06-01T07:46:50.884446Z",
     "shell.execute_reply": "2023-06-01T07:46:50.883304Z"
    },
    "papermill": {
     "duration": 0.047488,
     "end_time": "2023-06-01T07:46:50.886975",
     "exception": false,
     "start_time": "2023-06-01T07:46:50.839487",
     "status": "completed"
    },
    "tags": []
   },
   "outputs": [
    {
     "data": {
      "text/html": [
       "<div>\n",
       "<style scoped>\n",
       "    .dataframe tbody tr th:only-of-type {\n",
       "        vertical-align: middle;\n",
       "    }\n",
       "\n",
       "    .dataframe tbody tr th {\n",
       "        vertical-align: top;\n",
       "    }\n",
       "\n",
       "    .dataframe thead th {\n",
       "        text-align: right;\n",
       "    }\n",
       "</style>\n",
       "<table border=\"1\" class=\"dataframe\">\n",
       "  <thead>\n",
       "    <tr style=\"text-align: right;\">\n",
       "      <th></th>\n",
       "      <th>name</th>\n",
       "      <th>online_order</th>\n",
       "      <th>book_table</th>\n",
       "      <th>rate</th>\n",
       "      <th>votes</th>\n",
       "      <th>location</th>\n",
       "      <th>rest_type</th>\n",
       "      <th>cuisines</th>\n",
       "      <th>Cost 2 person</th>\n",
       "      <th>type</th>\n",
       "    </tr>\n",
       "  </thead>\n",
       "  <tbody>\n",
       "    <tr>\n",
       "      <th>0</th>\n",
       "      <td>Jalsa</td>\n",
       "      <td>Yes</td>\n",
       "      <td>Yes</td>\n",
       "      <td>4.1</td>\n",
       "      <td>775</td>\n",
       "      <td>Banashankari</td>\n",
       "      <td>Casual Dining</td>\n",
       "      <td>North Indian, Mughlai, Chinese</td>\n",
       "      <td>800.0</td>\n",
       "      <td>Buffet</td>\n",
       "    </tr>\n",
       "    <tr>\n",
       "      <th>1</th>\n",
       "      <td>Spice Elephant</td>\n",
       "      <td>Yes</td>\n",
       "      <td>No</td>\n",
       "      <td>4.1</td>\n",
       "      <td>787</td>\n",
       "      <td>Banashankari</td>\n",
       "      <td>Casual Dining</td>\n",
       "      <td>Chinese, North Indian, Thai</td>\n",
       "      <td>800.0</td>\n",
       "      <td>Buffet</td>\n",
       "    </tr>\n",
       "    <tr>\n",
       "      <th>2</th>\n",
       "      <td>San Churro Cafe</td>\n",
       "      <td>Yes</td>\n",
       "      <td>No</td>\n",
       "      <td>3.8</td>\n",
       "      <td>918</td>\n",
       "      <td>Banashankari</td>\n",
       "      <td>Others</td>\n",
       "      <td>Cafe, Mexican, Italian</td>\n",
       "      <td>800.0</td>\n",
       "      <td>Buffet</td>\n",
       "    </tr>\n",
       "    <tr>\n",
       "      <th>3</th>\n",
       "      <td>Addhuri Udupi Bhojana</td>\n",
       "      <td>No</td>\n",
       "      <td>No</td>\n",
       "      <td>3.7</td>\n",
       "      <td>88</td>\n",
       "      <td>Banashankari</td>\n",
       "      <td>Quick Bites</td>\n",
       "      <td>South Indian, North Indian</td>\n",
       "      <td>300.0</td>\n",
       "      <td>Buffet</td>\n",
       "    </tr>\n",
       "    <tr>\n",
       "      <th>4</th>\n",
       "      <td>Grand Village</td>\n",
       "      <td>No</td>\n",
       "      <td>No</td>\n",
       "      <td>3.8</td>\n",
       "      <td>166</td>\n",
       "      <td>Basavanagudi</td>\n",
       "      <td>Casual Dining</td>\n",
       "      <td>North Indian, Rajasthani</td>\n",
       "      <td>600.0</td>\n",
       "      <td>Buffet</td>\n",
       "    </tr>\n",
       "  </tbody>\n",
       "</table>\n",
       "</div>"
      ],
      "text/plain": [
       "                    name online_order book_table  rate  votes      location  \\\n",
       "0                  Jalsa          Yes        Yes   4.1    775  Banashankari   \n",
       "1         Spice Elephant          Yes         No   4.1    787  Banashankari   \n",
       "2        San Churro Cafe          Yes         No   3.8    918  Banashankari   \n",
       "3  Addhuri Udupi Bhojana           No         No   3.7     88  Banashankari   \n",
       "4          Grand Village           No         No   3.8    166  Basavanagudi   \n",
       "\n",
       "       rest_type                        cuisines  Cost 2 person    type  \n",
       "0  Casual Dining  North Indian, Mughlai, Chinese          800.0  Buffet  \n",
       "1  Casual Dining     Chinese, North Indian, Thai          800.0  Buffet  \n",
       "2         Others          Cafe, Mexican, Italian          800.0  Buffet  \n",
       "3    Quick Bites      South Indian, North Indian          300.0  Buffet  \n",
       "4  Casual Dining        North Indian, Rajasthani          600.0  Buffet  "
      ]
     },
     "execution_count": 42,
     "metadata": {},
     "output_type": "execute_result"
    }
   ],
   "source": [
    "df.head()"
   ]
  },
  {
   "cell_type": "markdown",
   "id": "ada008a5",
   "metadata": {
    "papermill": {
     "duration": 0.02474,
     "end_time": "2023-06-01T07:46:50.937240",
     "exception": false,
     "start_time": "2023-06-01T07:46:50.912500",
     "status": "completed"
    },
    "tags": []
   },
   "source": [
    "# Clean Cuisines column"
   ]
  },
  {
   "cell_type": "code",
   "execution_count": 43,
   "id": "897ba75c",
   "metadata": {
    "execution": {
     "iopub.execute_input": "2023-06-01T07:46:50.990226Z",
     "iopub.status.busy": "2023-06-01T07:46:50.989525Z",
     "iopub.status.idle": "2023-06-01T07:46:51.014248Z",
     "shell.execute_reply": "2023-06-01T07:46:51.013062Z"
    },
    "papermill": {
     "duration": 0.054241,
     "end_time": "2023-06-01T07:46:51.016732",
     "exception": false,
     "start_time": "2023-06-01T07:46:50.962491",
     "status": "completed"
    },
    "tags": []
   },
   "outputs": [
    {
     "data": {
      "text/plain": [
       "count            51042\n",
       "unique            2704\n",
       "top       North Indian\n",
       "freq              2852\n",
       "Name: cuisines, dtype: object"
      ]
     },
     "execution_count": 43,
     "metadata": {},
     "output_type": "execute_result"
    }
   ],
   "source": [
    "df.cuisines.describe()"
   ]
  },
  {
   "cell_type": "code",
   "execution_count": 44,
   "id": "32d5c7ed",
   "metadata": {
    "execution": {
     "iopub.execute_input": "2023-06-01T07:46:51.070203Z",
     "iopub.status.busy": "2023-06-01T07:46:51.069795Z",
     "iopub.status.idle": "2023-06-01T07:46:51.091192Z",
     "shell.execute_reply": "2023-06-01T07:46:51.090008Z"
    },
    "papermill": {
     "duration": 0.051056,
     "end_time": "2023-06-01T07:46:51.093644",
     "exception": false,
     "start_time": "2023-06-01T07:46:51.042588",
     "status": "completed"
    },
    "tags": []
   },
   "outputs": [
    {
     "data": {
      "text/plain": [
       "cuisines\n",
       "African, Burger                                                      11\n",
       "African, Burger, Desserts, Beverages, Fast Food                       2\n",
       "American                                                             14\n",
       "American, Asian, Continental, North Indian, South Indian, Chinese    12\n",
       "American, Asian, European, North Indian                               8\n",
       "                                                                     ..\n",
       "Turkish, Fast Food, Biryani, Chinese                                  1\n",
       "Turkish, Rolls                                                       17\n",
       "Vietnamese                                                           23\n",
       "Vietnamese, Salad                                                     2\n",
       "Vietnamese, Thai, Burmese, Japanese                                   4\n",
       "Length: 2704, dtype: int64"
      ]
     },
     "execution_count": 44,
     "metadata": {},
     "output_type": "execute_result"
    }
   ],
   "source": [
    "rest_cuis_group= df.groupby('cuisines').size()\n",
    "rest_cuis_group"
   ]
  },
  {
   "cell_type": "code",
   "execution_count": 45,
   "id": "3329093c",
   "metadata": {
    "execution": {
     "iopub.execute_input": "2023-06-01T07:46:51.146775Z",
     "iopub.status.busy": "2023-06-01T07:46:51.146376Z",
     "iopub.status.idle": "2023-06-01T07:46:51.155254Z",
     "shell.execute_reply": "2023-06-01T07:46:51.153911Z"
    },
    "papermill": {
     "duration": 0.038883,
     "end_time": "2023-06-01T07:46:51.158016",
     "exception": false,
     "start_time": "2023-06-01T07:46:51.119133",
     "status": "completed"
    },
    "tags": []
   },
   "outputs": [
    {
     "name": "stdout",
     "output_type": "stream",
     "text": [
      "Cuisines:  2635\n",
      "Frequency:  26159\n"
     ]
    }
   ],
   "source": [
    "# Clubbing cuisines with less than 100 restaurants as Others, as 2635 of 2704 (around 97%) cuisines have more than 50% occurance.\n",
    "print(\"Cuisines: \",rest_cuis_group[rest_cuis_group < 100].count())\n",
    "print(\"Frequency: \",rest_cuis_group[rest_cuis_group < 100].sum())"
   ]
  },
  {
   "cell_type": "code",
   "execution_count": 46,
   "id": "aebe8ece",
   "metadata": {
    "execution": {
     "iopub.execute_input": "2023-06-01T07:46:51.213397Z",
     "iopub.status.busy": "2023-06-01T07:46:51.212978Z",
     "iopub.status.idle": "2023-06-01T07:46:51.223605Z",
     "shell.execute_reply": "2023-06-01T07:46:51.222361Z"
    },
    "papermill": {
     "duration": 0.040699,
     "end_time": "2023-06-01T07:46:51.226139",
     "exception": false,
     "start_time": "2023-06-01T07:46:51.185440",
     "status": "completed"
    },
    "tags": []
   },
   "outputs": [
    {
     "data": {
      "text/plain": [
       "cuisines\n",
       "African, Burger                                                      11\n",
       "African, Burger, Desserts, Beverages, Fast Food                       2\n",
       "American                                                             14\n",
       "American, Asian, Continental, North Indian, South Indian, Chinese    12\n",
       "American, Asian, European, North Indian                               8\n",
       "                                                                     ..\n",
       "Turkish, Fast Food, Biryani, Chinese                                  1\n",
       "Turkish, Rolls                                                       17\n",
       "Vietnamese                                                           23\n",
       "Vietnamese, Salad                                                     2\n",
       "Vietnamese, Thai, Burmese, Japanese                                   4\n",
       "Length: 2635, dtype: int64"
      ]
     },
     "execution_count": 46,
     "metadata": {},
     "output_type": "execute_result"
    }
   ],
   "source": [
    "rest_less_100 = rest_cuis_group[rest_cuis_group < 100]\n",
    "rest_less_100"
   ]
  },
  {
   "cell_type": "code",
   "execution_count": 47,
   "id": "85c84a1d",
   "metadata": {
    "execution": {
     "iopub.execute_input": "2023-06-01T07:46:51.282398Z",
     "iopub.status.busy": "2023-06-01T07:46:51.281999Z",
     "iopub.status.idle": "2023-06-01T07:46:51.412257Z",
     "shell.execute_reply": "2023-06-01T07:46:51.411162Z"
    },
    "papermill": {
     "duration": 0.16114,
     "end_time": "2023-06-01T07:46:51.414707",
     "exception": false,
     "start_time": "2023-06-01T07:46:51.253567",
     "status": "completed"
    },
    "tags": []
   },
   "outputs": [
    {
     "data": {
      "text/plain": [
       "cuisines\n",
       "Italian, Pizza                           102\n",
       "North Indian, Chinese, Seafood           102\n",
       "South Indian, Fast Food                  104\n",
       "North Indian, Mughlai, Chinese           104\n",
       "South Indian, Chinese, North Indian      105\n",
       "                                       ...  \n",
       "Biryani                                  903\n",
       "South Indian                            1820\n",
       "North Indian, Chinese                   2351\n",
       "North Indian                            2852\n",
       "Others                                 26159\n",
       "Length: 70, dtype: int64"
      ]
     },
     "execution_count": 47,
     "metadata": {},
     "output_type": "execute_result"
    }
   ],
   "source": [
    "def cuis_category(i):\n",
    "    if i in rest_less_100.index:\n",
    "        return \"Others\"\n",
    "    else:\n",
    "        return i\n",
    "    \n",
    "df.cuisines = df.cuisines.apply(cuis_category)   \n",
    "\n",
    "df.groupby('cuisines').size().sort_values()"
   ]
  },
  {
   "cell_type": "code",
   "execution_count": 48,
   "id": "61d20aa4",
   "metadata": {
    "execution": {
     "iopub.execute_input": "2023-06-01T07:46:51.469635Z",
     "iopub.status.busy": "2023-06-01T07:46:51.468941Z",
     "iopub.status.idle": "2023-06-01T07:46:51.486538Z",
     "shell.execute_reply": "2023-06-01T07:46:51.485723Z"
    },
    "papermill": {
     "duration": 0.048129,
     "end_time": "2023-06-01T07:46:51.488755",
     "exception": false,
     "start_time": "2023-06-01T07:46:51.440626",
     "status": "completed"
    },
    "tags": []
   },
   "outputs": [
    {
     "data": {
      "text/html": [
       "<div>\n",
       "<style scoped>\n",
       "    .dataframe tbody tr th:only-of-type {\n",
       "        vertical-align: middle;\n",
       "    }\n",
       "\n",
       "    .dataframe tbody tr th {\n",
       "        vertical-align: top;\n",
       "    }\n",
       "\n",
       "    .dataframe thead th {\n",
       "        text-align: right;\n",
       "    }\n",
       "</style>\n",
       "<table border=\"1\" class=\"dataframe\">\n",
       "  <thead>\n",
       "    <tr style=\"text-align: right;\">\n",
       "      <th></th>\n",
       "      <th>name</th>\n",
       "      <th>online_order</th>\n",
       "      <th>book_table</th>\n",
       "      <th>rate</th>\n",
       "      <th>votes</th>\n",
       "      <th>location</th>\n",
       "      <th>rest_type</th>\n",
       "      <th>cuisines</th>\n",
       "      <th>Cost 2 person</th>\n",
       "      <th>type</th>\n",
       "    </tr>\n",
       "  </thead>\n",
       "  <tbody>\n",
       "    <tr>\n",
       "      <th>0</th>\n",
       "      <td>Jalsa</td>\n",
       "      <td>Yes</td>\n",
       "      <td>Yes</td>\n",
       "      <td>4.1</td>\n",
       "      <td>775</td>\n",
       "      <td>Banashankari</td>\n",
       "      <td>Casual Dining</td>\n",
       "      <td>North Indian, Mughlai, Chinese</td>\n",
       "      <td>800.0</td>\n",
       "      <td>Buffet</td>\n",
       "    </tr>\n",
       "    <tr>\n",
       "      <th>1</th>\n",
       "      <td>Spice Elephant</td>\n",
       "      <td>Yes</td>\n",
       "      <td>No</td>\n",
       "      <td>4.1</td>\n",
       "      <td>787</td>\n",
       "      <td>Banashankari</td>\n",
       "      <td>Casual Dining</td>\n",
       "      <td>Others</td>\n",
       "      <td>800.0</td>\n",
       "      <td>Buffet</td>\n",
       "    </tr>\n",
       "    <tr>\n",
       "      <th>2</th>\n",
       "      <td>San Churro Cafe</td>\n",
       "      <td>Yes</td>\n",
       "      <td>No</td>\n",
       "      <td>3.8</td>\n",
       "      <td>918</td>\n",
       "      <td>Banashankari</td>\n",
       "      <td>Others</td>\n",
       "      <td>Others</td>\n",
       "      <td>800.0</td>\n",
       "      <td>Buffet</td>\n",
       "    </tr>\n",
       "    <tr>\n",
       "      <th>3</th>\n",
       "      <td>Addhuri Udupi Bhojana</td>\n",
       "      <td>No</td>\n",
       "      <td>No</td>\n",
       "      <td>3.7</td>\n",
       "      <td>88</td>\n",
       "      <td>Banashankari</td>\n",
       "      <td>Quick Bites</td>\n",
       "      <td>South Indian, North Indian</td>\n",
       "      <td>300.0</td>\n",
       "      <td>Buffet</td>\n",
       "    </tr>\n",
       "    <tr>\n",
       "      <th>4</th>\n",
       "      <td>Grand Village</td>\n",
       "      <td>No</td>\n",
       "      <td>No</td>\n",
       "      <td>3.8</td>\n",
       "      <td>166</td>\n",
       "      <td>Basavanagudi</td>\n",
       "      <td>Casual Dining</td>\n",
       "      <td>Others</td>\n",
       "      <td>600.0</td>\n",
       "      <td>Buffet</td>\n",
       "    </tr>\n",
       "  </tbody>\n",
       "</table>\n",
       "</div>"
      ],
      "text/plain": [
       "                    name online_order book_table  rate  votes      location  \\\n",
       "0                  Jalsa          Yes        Yes   4.1    775  Banashankari   \n",
       "1         Spice Elephant          Yes         No   4.1    787  Banashankari   \n",
       "2        San Churro Cafe          Yes         No   3.8    918  Banashankari   \n",
       "3  Addhuri Udupi Bhojana           No         No   3.7     88  Banashankari   \n",
       "4          Grand Village           No         No   3.8    166  Basavanagudi   \n",
       "\n",
       "       rest_type                        cuisines  Cost 2 person    type  \n",
       "0  Casual Dining  North Indian, Mughlai, Chinese          800.0  Buffet  \n",
       "1  Casual Dining                          Others          800.0  Buffet  \n",
       "2         Others                          Others          800.0  Buffet  \n",
       "3    Quick Bites      South Indian, North Indian          300.0  Buffet  \n",
       "4  Casual Dining                          Others          600.0  Buffet  "
      ]
     },
     "execution_count": 48,
     "metadata": {},
     "output_type": "execute_result"
    }
   ],
   "source": [
    "df.head()"
   ]
  },
  {
   "cell_type": "markdown",
   "id": "e3e3f9fb",
   "metadata": {
    "papermill": {
     "duration": 0.025786,
     "end_time": "2023-06-01T07:46:51.540652",
     "exception": false,
     "start_time": "2023-06-01T07:46:51.514866",
     "status": "completed"
    },
    "tags": []
   },
   "source": [
    "# Saving cleaned dataset"
   ]
  },
  {
   "cell_type": "code",
   "execution_count": 49,
   "id": "242ab2f1",
   "metadata": {
    "execution": {
     "iopub.execute_input": "2023-06-01T07:46:51.597601Z",
     "iopub.status.busy": "2023-06-01T07:46:51.596864Z",
     "iopub.status.idle": "2023-06-01T07:47:16.755142Z",
     "shell.execute_reply": "2023-06-01T07:47:16.753747Z"
    },
    "papermill": {
     "duration": 25.189858,
     "end_time": "2023-06-01T07:47:16.757934",
     "exception": false,
     "start_time": "2023-06-01T07:46:51.568076",
     "status": "completed"
    },
    "tags": []
   },
   "outputs": [],
   "source": [
    "df.to_excel('Zomato_clean_data.xlsx')"
   ]
  }
 ],
 "metadata": {
  "kernelspec": {
   "display_name": "Python 3",
   "language": "python",
   "name": "python3"
  },
  "language_info": {
   "codemirror_mode": {
    "name": "ipython",
    "version": 3
   },
   "file_extension": ".py",
   "mimetype": "text/x-python",
   "name": "python",
   "nbconvert_exporter": "python",
   "pygments_lexer": "ipython3",
   "version": "3.10.10"
  },
  "papermill": {
   "default_parameters": {},
   "duration": 63.71318,
   "end_time": "2023-06-01T07:47:18.312119",
   "environment_variables": {},
   "exception": null,
   "input_path": "__notebook__.ipynb",
   "output_path": "__notebook__.ipynb",
   "parameters": {},
   "start_time": "2023-06-01T07:46:14.598939",
   "version": "2.4.0"
  }
 },
 "nbformat": 4,
 "nbformat_minor": 5
}
